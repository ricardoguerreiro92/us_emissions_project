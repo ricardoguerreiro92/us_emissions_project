{
 "cells": [
  {
   "cell_type": "code",
   "execution_count": 1,
   "id": "6b6831a9",
   "metadata": {},
   "outputs": [],
   "source": [
    "#Importing Dependencies\n",
    "%matplotlib inline\n",
    "import pandas as pd\n",
    "import numpy as np\n",
    "from numpy import random\n",
    "import tensorflow as tf\n",
    "import matplotlib.pyplot as plt\n",
    "import plotly.express as px\n",
    "import sklearn as skl\n",
    "from sklearn.model_selection import train_test_split\n",
    "from sklearn.ensemble import RandomForestRegressor, RandomForestClassifier\n",
    "from sklearn.metrics import accuracy_score\n",
    "from sklearn.preprocessing import StandardScaler, MinMaxScaler, LabelEncoder\n",
    "from sklearn.decomposition import PCA\n",
    "from sklearn.pipeline import Pipeline\n",
    "from sklearn import preprocessing\n",
    "from sklearn import utils\n",
    "from functools import reduce\n",
    "from sklearn.cluster import KMeans\n",
    "import psycopg2\n",
    "from sqlalchemy import create_engine\n",
    "from config import DB_HOST, DB_USER, DB_PASS, DB_PORT"
   ]
  },
  {
   "cell_type": "code",
   "execution_count": 2,
   "id": "0f516b50",
   "metadata": {},
   "outputs": [],
   "source": [
    "#Creating engine to access online databse\n",
    "engine = create_engine(f'postgresql://{DB_USER}:{DB_PASS}@{DB_HOST}:{DB_PORT}/us_emissions_db')"
   ]
  },
  {
   "cell_type": "code",
   "execution_count": 3,
   "id": "6c5b7367",
   "metadata": {},
   "outputs": [],
   "source": [
    "#reading merged table and year averages table\n",
    "merged_table = pd.read_sql_table('gdp_pop_sector_emissions', con=engine)\n",
    "year_avg = pd.read_sql_table('year_averages', con=engine)\n",
    "year_avg.columns = ['year', 'avgpop', 'avggdp', 'avgghg']"
   ]
  },
  {
   "cell_type": "code",
   "execution_count": 4,
   "id": "a0ed8ca6",
   "metadata": {},
   "outputs": [
    {
     "data": {
      "text/html": [
       "<div>\n",
       "<style scoped>\n",
       "    .dataframe tbody tr th:only-of-type {\n",
       "        vertical-align: middle;\n",
       "    }\n",
       "\n",
       "    .dataframe tbody tr th {\n",
       "        vertical-align: top;\n",
       "    }\n",
       "\n",
       "    .dataframe thead th {\n",
       "        text-align: right;\n",
       "    }\n",
       "</style>\n",
       "<table border=\"1\" class=\"dataframe\">\n",
       "  <thead>\n",
       "    <tr style=\"text-align: right;\">\n",
       "      <th></th>\n",
       "      <th>index</th>\n",
       "      <th>Country</th>\n",
       "      <th>State</th>\n",
       "      <th>Year</th>\n",
       "      <th>GDP</th>\n",
       "      <th>Population</th>\n",
       "      <th>Sector</th>\n",
       "      <th>allghg</th>\n",
       "      <th>CH4</th>\n",
       "      <th>CO2</th>\n",
       "      <th>N2O</th>\n",
       "      <th>F-Gas</th>\n",
       "      <th>outcomes</th>\n",
       "    </tr>\n",
       "  </thead>\n",
       "  <tbody>\n",
       "    <tr>\n",
       "      <th>0</th>\n",
       "      <td>0</td>\n",
       "      <td>US</td>\n",
       "      <td>AL</td>\n",
       "      <td>1997</td>\n",
       "      <td>3.724787e+10</td>\n",
       "      <td>4367935</td>\n",
       "      <td>Agriculture</td>\n",
       "      <td>6.889241</td>\n",
       "      <td>3.392917</td>\n",
       "      <td>0.016045</td>\n",
       "      <td>4.028508</td>\n",
       "      <td>1.128290</td>\n",
       "      <td>0</td>\n",
       "    </tr>\n",
       "    <tr>\n",
       "      <th>1</th>\n",
       "      <td>1</td>\n",
       "      <td>US</td>\n",
       "      <td>AL</td>\n",
       "      <td>1998</td>\n",
       "      <td>3.936806e+10</td>\n",
       "      <td>4404701</td>\n",
       "      <td>Agriculture</td>\n",
       "      <td>6.954451</td>\n",
       "      <td>3.137611</td>\n",
       "      <td>0.016269</td>\n",
       "      <td>3.751630</td>\n",
       "      <td>1.290703</td>\n",
       "      <td>1</td>\n",
       "    </tr>\n",
       "    <tr>\n",
       "      <th>2</th>\n",
       "      <td>2</td>\n",
       "      <td>US</td>\n",
       "      <td>AL</td>\n",
       "      <td>1999</td>\n",
       "      <td>4.151366e+10</td>\n",
       "      <td>4430141</td>\n",
       "      <td>Agriculture</td>\n",
       "      <td>6.560038</td>\n",
       "      <td>3.074048</td>\n",
       "      <td>0.013043</td>\n",
       "      <td>3.880403</td>\n",
       "      <td>1.376542</td>\n",
       "      <td>0</td>\n",
       "    </tr>\n",
       "    <tr>\n",
       "      <th>3</th>\n",
       "      <td>3</td>\n",
       "      <td>US</td>\n",
       "      <td>AL</td>\n",
       "      <td>2000</td>\n",
       "      <td>4.258337e+10</td>\n",
       "      <td>4452173</td>\n",
       "      <td>Agriculture</td>\n",
       "      <td>6.298967</td>\n",
       "      <td>2.959365</td>\n",
       "      <td>0.002420</td>\n",
       "      <td>3.600673</td>\n",
       "      <td>1.521127</td>\n",
       "      <td>0</td>\n",
       "    </tr>\n",
       "    <tr>\n",
       "      <th>4</th>\n",
       "      <td>4</td>\n",
       "      <td>US</td>\n",
       "      <td>AL</td>\n",
       "      <td>2001</td>\n",
       "      <td>4.334858e+10</td>\n",
       "      <td>4467634</td>\n",
       "      <td>Agriculture</td>\n",
       "      <td>6.374233</td>\n",
       "      <td>2.899730</td>\n",
       "      <td>0.007422</td>\n",
       "      <td>3.399237</td>\n",
       "      <td>1.600098</td>\n",
       "      <td>1</td>\n",
       "    </tr>\n",
       "  </tbody>\n",
       "</table>\n",
       "</div>"
      ],
      "text/plain": [
       "   index Country State  Year           GDP  Population       Sector    allghg  \\\n",
       "0      0      US    AL  1997  3.724787e+10     4367935  Agriculture  6.889241   \n",
       "1      1      US    AL  1998  3.936806e+10     4404701  Agriculture  6.954451   \n",
       "2      2      US    AL  1999  4.151366e+10     4430141  Agriculture  6.560038   \n",
       "3      3      US    AL  2000  4.258337e+10     4452173  Agriculture  6.298967   \n",
       "4      4      US    AL  2001  4.334858e+10     4467634  Agriculture  6.374233   \n",
       "\n",
       "        CH4       CO2       N2O     F-Gas  outcomes  \n",
       "0  3.392917  0.016045  4.028508  1.128290         0  \n",
       "1  3.137611  0.016269  3.751630  1.290703         1  \n",
       "2  3.074048  0.013043  3.880403  1.376542         0  \n",
       "3  2.959365  0.002420  3.600673  1.521127         0  \n",
       "4  2.899730  0.007422  3.399237  1.600098         1  "
      ]
     },
     "metadata": {},
     "output_type": "display_data"
    },
    {
     "data": {
      "text/html": [
       "<div>\n",
       "<style scoped>\n",
       "    .dataframe tbody tr th:only-of-type {\n",
       "        vertical-align: middle;\n",
       "    }\n",
       "\n",
       "    .dataframe tbody tr th {\n",
       "        vertical-align: top;\n",
       "    }\n",
       "\n",
       "    .dataframe thead th {\n",
       "        text-align: right;\n",
       "    }\n",
       "</style>\n",
       "<table border=\"1\" class=\"dataframe\">\n",
       "  <thead>\n",
       "    <tr style=\"text-align: right;\">\n",
       "      <th></th>\n",
       "      <th>year</th>\n",
       "      <th>avgpop</th>\n",
       "      <th>avggdp</th>\n",
       "      <th>avgghg</th>\n",
       "    </tr>\n",
       "  </thead>\n",
       "  <tbody>\n",
       "    <tr>\n",
       "      <th>0</th>\n",
       "      <td>1997</td>\n",
       "      <td>5.346018e+06</td>\n",
       "      <td>6.336021e+10</td>\n",
       "      <td>19.723300</td>\n",
       "    </tr>\n",
       "    <tr>\n",
       "      <th>1</th>\n",
       "      <td>1998</td>\n",
       "      <td>5.408904e+06</td>\n",
       "      <td>6.529091e+10</td>\n",
       "      <td>19.659627</td>\n",
       "    </tr>\n",
       "    <tr>\n",
       "      <th>2</th>\n",
       "      <td>1999</td>\n",
       "      <td>5.471376e+06</td>\n",
       "      <td>6.939920e+10</td>\n",
       "      <td>19.800945</td>\n",
       "    </tr>\n",
       "    <tr>\n",
       "      <th>3</th>\n",
       "      <td>2000</td>\n",
       "      <td>5.532596e+06</td>\n",
       "      <td>7.215153e+10</td>\n",
       "      <td>20.297083</td>\n",
       "    </tr>\n",
       "    <tr>\n",
       "      <th>4</th>\n",
       "      <td>2001</td>\n",
       "      <td>5.587627e+06</td>\n",
       "      <td>7.477159e+10</td>\n",
       "      <td>19.961042</td>\n",
       "    </tr>\n",
       "  </tbody>\n",
       "</table>\n",
       "</div>"
      ],
      "text/plain": [
       "   year        avgpop        avggdp     avgghg\n",
       "0  1997  5.346018e+06  6.336021e+10  19.723300\n",
       "1  1998  5.408904e+06  6.529091e+10  19.659627\n",
       "2  1999  5.471376e+06  6.939920e+10  19.800945\n",
       "3  2000  5.532596e+06  7.215153e+10  20.297083\n",
       "4  2001  5.587627e+06  7.477159e+10  19.961042"
      ]
     },
     "metadata": {},
     "output_type": "display_data"
    }
   ],
   "source": [
    "#displaying merged table and year table\n",
    "display(merged_table.head())\n",
    "display(year_avg.head())"
   ]
  },
  {
   "cell_type": "code",
   "execution_count": 81,
   "id": "4ac81f6c",
   "metadata": {},
   "outputs": [
    {
     "data": {
      "text/html": [
       "<div>\n",
       "<style scoped>\n",
       "    .dataframe tbody tr th:only-of-type {\n",
       "        vertical-align: middle;\n",
       "    }\n",
       "\n",
       "    .dataframe tbody tr th {\n",
       "        vertical-align: top;\n",
       "    }\n",
       "\n",
       "    .dataframe thead th {\n",
       "        text-align: right;\n",
       "    }\n",
       "</style>\n",
       "<table border=\"1\" class=\"dataframe\">\n",
       "  <thead>\n",
       "    <tr style=\"text-align: right;\">\n",
       "      <th></th>\n",
       "      <th>index</th>\n",
       "      <th>Country</th>\n",
       "      <th>State</th>\n",
       "      <th>Year</th>\n",
       "      <th>GDP</th>\n",
       "      <th>Population</th>\n",
       "      <th>Sector</th>\n",
       "      <th>allghg</th>\n",
       "      <th>CH4</th>\n",
       "      <th>CO2</th>\n",
       "      <th>N2O</th>\n",
       "      <th>F-Gas</th>\n",
       "      <th>outcomes</th>\n",
       "      <th>StateEncoded</th>\n",
       "      <th>SectorEncoded</th>\n",
       "    </tr>\n",
       "  </thead>\n",
       "  <tbody>\n",
       "    <tr>\n",
       "      <th>0</th>\n",
       "      <td>0</td>\n",
       "      <td>US</td>\n",
       "      <td>AL</td>\n",
       "      <td>1997</td>\n",
       "      <td>3.724787e+10</td>\n",
       "      <td>4367935</td>\n",
       "      <td>Agriculture</td>\n",
       "      <td>6.889241</td>\n",
       "      <td>3.392917</td>\n",
       "      <td>0.016045</td>\n",
       "      <td>4.028508</td>\n",
       "      <td>1.128290</td>\n",
       "      <td>0</td>\n",
       "      <td>1</td>\n",
       "      <td>0</td>\n",
       "    </tr>\n",
       "    <tr>\n",
       "      <th>1</th>\n",
       "      <td>1</td>\n",
       "      <td>US</td>\n",
       "      <td>AL</td>\n",
       "      <td>1998</td>\n",
       "      <td>3.936806e+10</td>\n",
       "      <td>4404701</td>\n",
       "      <td>Agriculture</td>\n",
       "      <td>6.954451</td>\n",
       "      <td>3.137611</td>\n",
       "      <td>0.016269</td>\n",
       "      <td>3.751630</td>\n",
       "      <td>1.290703</td>\n",
       "      <td>1</td>\n",
       "      <td>1</td>\n",
       "      <td>0</td>\n",
       "    </tr>\n",
       "    <tr>\n",
       "      <th>2</th>\n",
       "      <td>2</td>\n",
       "      <td>US</td>\n",
       "      <td>AL</td>\n",
       "      <td>1999</td>\n",
       "      <td>4.151366e+10</td>\n",
       "      <td>4430141</td>\n",
       "      <td>Agriculture</td>\n",
       "      <td>6.560038</td>\n",
       "      <td>3.074048</td>\n",
       "      <td>0.013043</td>\n",
       "      <td>3.880403</td>\n",
       "      <td>1.376542</td>\n",
       "      <td>0</td>\n",
       "      <td>1</td>\n",
       "      <td>0</td>\n",
       "    </tr>\n",
       "    <tr>\n",
       "      <th>3</th>\n",
       "      <td>3</td>\n",
       "      <td>US</td>\n",
       "      <td>AL</td>\n",
       "      <td>2000</td>\n",
       "      <td>4.258337e+10</td>\n",
       "      <td>4452173</td>\n",
       "      <td>Agriculture</td>\n",
       "      <td>6.298967</td>\n",
       "      <td>2.959365</td>\n",
       "      <td>0.002420</td>\n",
       "      <td>3.600673</td>\n",
       "      <td>1.521127</td>\n",
       "      <td>0</td>\n",
       "      <td>1</td>\n",
       "      <td>0</td>\n",
       "    </tr>\n",
       "    <tr>\n",
       "      <th>4</th>\n",
       "      <td>4</td>\n",
       "      <td>US</td>\n",
       "      <td>AL</td>\n",
       "      <td>2001</td>\n",
       "      <td>4.334858e+10</td>\n",
       "      <td>4467634</td>\n",
       "      <td>Agriculture</td>\n",
       "      <td>6.374233</td>\n",
       "      <td>2.899730</td>\n",
       "      <td>0.007422</td>\n",
       "      <td>3.399237</td>\n",
       "      <td>1.600098</td>\n",
       "      <td>1</td>\n",
       "      <td>1</td>\n",
       "      <td>0</td>\n",
       "    </tr>\n",
       "    <tr>\n",
       "      <th>...</th>\n",
       "      <td>...</td>\n",
       "      <td>...</td>\n",
       "      <td>...</td>\n",
       "      <td>...</td>\n",
       "      <td>...</td>\n",
       "      <td>...</td>\n",
       "      <td>...</td>\n",
       "      <td>...</td>\n",
       "      <td>...</td>\n",
       "      <td>...</td>\n",
       "      <td>...</td>\n",
       "      <td>...</td>\n",
       "      <td>...</td>\n",
       "      <td>...</td>\n",
       "      <td>...</td>\n",
       "    </tr>\n",
       "    <tr>\n",
       "      <th>13459</th>\n",
       "      <td>13459</td>\n",
       "      <td>US</td>\n",
       "      <td>WY</td>\n",
       "      <td>2014</td>\n",
       "      <td>1.827150e+10</td>\n",
       "      <td>583159</td>\n",
       "      <td>Waste</td>\n",
       "      <td>0.449731</td>\n",
       "      <td>0.000000</td>\n",
       "      <td>0.000000</td>\n",
       "      <td>0.000000</td>\n",
       "      <td>0.000000</td>\n",
       "      <td>1</td>\n",
       "      <td>50</td>\n",
       "      <td>11</td>\n",
       "    </tr>\n",
       "    <tr>\n",
       "      <th>13460</th>\n",
       "      <td>13460</td>\n",
       "      <td>US</td>\n",
       "      <td>WY</td>\n",
       "      <td>2015</td>\n",
       "      <td>1.651612e+10</td>\n",
       "      <td>586389</td>\n",
       "      <td>Waste</td>\n",
       "      <td>0.456765</td>\n",
       "      <td>0.000000</td>\n",
       "      <td>0.000000</td>\n",
       "      <td>0.000000</td>\n",
       "      <td>0.000000</td>\n",
       "      <td>1</td>\n",
       "      <td>50</td>\n",
       "      <td>11</td>\n",
       "    </tr>\n",
       "    <tr>\n",
       "      <th>13461</th>\n",
       "      <td>13461</td>\n",
       "      <td>US</td>\n",
       "      <td>WY</td>\n",
       "      <td>2016</td>\n",
       "      <td>1.516490e+10</td>\n",
       "      <td>585243</td>\n",
       "      <td>Waste</td>\n",
       "      <td>0.463380</td>\n",
       "      <td>0.000000</td>\n",
       "      <td>0.000000</td>\n",
       "      <td>0.000000</td>\n",
       "      <td>0.000000</td>\n",
       "      <td>1</td>\n",
       "      <td>50</td>\n",
       "      <td>11</td>\n",
       "    </tr>\n",
       "    <tr>\n",
       "      <th>13462</th>\n",
       "      <td>13462</td>\n",
       "      <td>US</td>\n",
       "      <td>WY</td>\n",
       "      <td>2017</td>\n",
       "      <td>1.597636e+10</td>\n",
       "      <td>579994</td>\n",
       "      <td>Waste</td>\n",
       "      <td>0.469695</td>\n",
       "      <td>0.000000</td>\n",
       "      <td>0.000000</td>\n",
       "      <td>0.000000</td>\n",
       "      <td>0.000000</td>\n",
       "      <td>1</td>\n",
       "      <td>50</td>\n",
       "      <td>11</td>\n",
       "    </tr>\n",
       "    <tr>\n",
       "      <th>13463</th>\n",
       "      <td>13463</td>\n",
       "      <td>US</td>\n",
       "      <td>WY</td>\n",
       "      <td>2018</td>\n",
       "      <td>1.712228e+10</td>\n",
       "      <td>579054</td>\n",
       "      <td>Waste</td>\n",
       "      <td>0.476361</td>\n",
       "      <td>0.000000</td>\n",
       "      <td>0.000000</td>\n",
       "      <td>0.000000</td>\n",
       "      <td>0.000000</td>\n",
       "      <td>1</td>\n",
       "      <td>50</td>\n",
       "      <td>11</td>\n",
       "    </tr>\n",
       "  </tbody>\n",
       "</table>\n",
       "<p>13464 rows × 15 columns</p>\n",
       "</div>"
      ],
      "text/plain": [
       "       index Country State  Year           GDP  Population       Sector  \\\n",
       "0          0      US    AL  1997  3.724787e+10     4367935  Agriculture   \n",
       "1          1      US    AL  1998  3.936806e+10     4404701  Agriculture   \n",
       "2          2      US    AL  1999  4.151366e+10     4430141  Agriculture   \n",
       "3          3      US    AL  2000  4.258337e+10     4452173  Agriculture   \n",
       "4          4      US    AL  2001  4.334858e+10     4467634  Agriculture   \n",
       "...      ...     ...   ...   ...           ...         ...          ...   \n",
       "13459  13459      US    WY  2014  1.827150e+10      583159        Waste   \n",
       "13460  13460      US    WY  2015  1.651612e+10      586389        Waste   \n",
       "13461  13461      US    WY  2016  1.516490e+10      585243        Waste   \n",
       "13462  13462      US    WY  2017  1.597636e+10      579994        Waste   \n",
       "13463  13463      US    WY  2018  1.712228e+10      579054        Waste   \n",
       "\n",
       "         allghg       CH4       CO2       N2O     F-Gas  outcomes  \\\n",
       "0      6.889241  3.392917  0.016045  4.028508  1.128290         0   \n",
       "1      6.954451  3.137611  0.016269  3.751630  1.290703         1   \n",
       "2      6.560038  3.074048  0.013043  3.880403  1.376542         0   \n",
       "3      6.298967  2.959365  0.002420  3.600673  1.521127         0   \n",
       "4      6.374233  2.899730  0.007422  3.399237  1.600098         1   \n",
       "...         ...       ...       ...       ...       ...       ...   \n",
       "13459  0.449731  0.000000  0.000000  0.000000  0.000000         1   \n",
       "13460  0.456765  0.000000  0.000000  0.000000  0.000000         1   \n",
       "13461  0.463380  0.000000  0.000000  0.000000  0.000000         1   \n",
       "13462  0.469695  0.000000  0.000000  0.000000  0.000000         1   \n",
       "13463  0.476361  0.000000  0.000000  0.000000  0.000000         1   \n",
       "\n",
       "       StateEncoded  SectorEncoded  \n",
       "0                 1              0  \n",
       "1                 1              0  \n",
       "2                 1              0  \n",
       "3                 1              0  \n",
       "4                 1              0  \n",
       "...             ...            ...  \n",
       "13459            50             11  \n",
       "13460            50             11  \n",
       "13461            50             11  \n",
       "13462            50             11  \n",
       "13463            50             11  \n",
       "\n",
       "[13464 rows x 15 columns]"
      ]
     },
     "execution_count": 81,
     "metadata": {},
     "output_type": "execute_result"
    }
   ],
   "source": [
    "# Encode State, Sector, and Year into Labels\n",
    "le = LabelEncoder()\n",
    "encoded_table = merged_table.copy()\n",
    "encoded_table['StateEncoded'] = le.fit_transform(encoded_table['State'])\n",
    "# encoded_table['Year'] = le.fit_transform(encoded_table['Year'])\n",
    "encoded_table['SectorEncoded'] = le.fit_transform(encoded_table['Sector'])\n",
    "# encoded_table_no_lucf = encoded_table.loc[encoded_table['Sector'] != 'Land-Use Change and Forestry']\n",
    "encoded_table = encoded_table.copy()\n",
    "# encoded_table = encoded_table.loc[encoded_table['allghg'] != 0]\n",
    "encoded_table"
   ]
  },
  {
   "cell_type": "markdown",
   "id": "af576725",
   "metadata": {},
   "source": [
    "# Random Forest Regressor Model"
   ]
  },
  {
   "cell_type": "code",
   "execution_count": 82,
   "id": "cb9c54e6",
   "metadata": {},
   "outputs": [],
   "source": [
    "#Creating target and features for Random Forest Regressor Model to be used on the Avg Table\n",
    "# X = year_avg[['avgpop','avggdp']]\n",
    "# y = year_avg['avgghg']\n",
    "X = encoded_table[['StateEncoded', 'SectorEncoded','GDP', 'Population', 'allghg']]\n",
    "y = encoded_table['outcomes']"
   ]
  },
  {
   "cell_type": "code",
   "execution_count": 83,
   "id": "8887841f",
   "metadata": {},
   "outputs": [],
   "source": [
    "#Splitting the data\n",
    "X_train, X_test, y_train, y_test = train_test_split(X, y)\n",
    "# scaler = StandardScaler().fit(X_train.values)\n",
    "# X_train_scaled = scaler.transform(X_train.values)\n",
    "# X_test_scaled = scaler.transform(X_test.values)"
   ]
  },
  {
   "cell_type": "code",
   "execution_count": 84,
   "id": "c8e41de5",
   "metadata": {},
   "outputs": [
    {
     "name": "stdout",
     "output_type": "stream",
     "text": [
      "Training Score: 0.8726755150828334\n",
      "Testing Score: 0.07556543279324768\n"
     ]
    }
   ],
   "source": [
    "#Train and test data\n",
    "clf = RandomForestRegressor(n_estimators=150).fit(X_train.values, y_train.values)\n",
    "\n",
    "print(f'Training Score: {clf.score(X_train.values, y_train.values)}')\n",
    "print(f'Testing Score: {clf.score(X_test.values, y_test.values)}')"
   ]
  },
  {
   "cell_type": "code",
   "execution_count": 85,
   "id": "c7769992",
   "metadata": {},
   "outputs": [],
   "source": [
    "#Create function to predict ghg based on Population & GDP per state\n",
    "def rfr_model(state, sector):\n",
    "    model_data = encoded_table.loc[(encoded_table['State']==state) & (encoded_table['Sector']==sector)]\n",
    "    X = model_data[['StateEncoded','SectorEncoded','GDP', 'Population', 'allghg']]\n",
    "    y = model_data['outcomes']\n",
    "#     scaler = StandardScaler().fit(X.values)\n",
    "#     X_test_scaled = scaler.transform(X.values)\n",
    "#    print(f'Testing Score: {clf.score(X, y)}')\n",
    "    return clf.score(X.values, y.values)"
   ]
  },
  {
   "cell_type": "code",
   "execution_count": 86,
   "id": "3829fd8a",
   "metadata": {},
   "outputs": [
    {
     "name": "stdout",
     "output_type": "stream",
     "text": [
      "Testing Score: 0.5792459259259259\n"
     ]
    }
   ],
   "source": [
    "print(f\"Testing Score: {rfr_model('NJ', 'Transportation')}\")"
   ]
  },
  {
   "cell_type": "code",
   "execution_count": 52,
   "id": "6baa0a5a",
   "metadata": {},
   "outputs": [],
   "source": [
    "# Create table of State-Sector-Score\n",
    "state_list = []\n",
    "sector_list = []\n",
    "score_list = []\n",
    "for row in encoded_table.itertuples():\n",
    "    state = row.State\n",
    "    sector = row.Sector\n",
    "    score = rfr_model(state, sector)\n",
    "    state_list.append(state)\n",
    "    sector_list.append(sector)\n",
    "    score_list.append(score)\n",
    "\n",
    "score_df = pd.DataFrame({'state': state_list, 'sector': sector_list, 'score': score_list}, \n",
    "                        columns = ['state', 'sector', 'score'])"
   ]
  },
  {
   "cell_type": "code",
   "execution_count": 53,
   "id": "83b43dfb",
   "metadata": {},
   "outputs": [
    {
     "data": {
      "text/html": [
       "<div>\n",
       "<style scoped>\n",
       "    .dataframe tbody tr th:only-of-type {\n",
       "        vertical-align: middle;\n",
       "    }\n",
       "\n",
       "    .dataframe tbody tr th {\n",
       "        vertical-align: top;\n",
       "    }\n",
       "\n",
       "    .dataframe thead th {\n",
       "        text-align: right;\n",
       "    }\n",
       "</style>\n",
       "<table border=\"1\" class=\"dataframe\">\n",
       "  <thead>\n",
       "    <tr style=\"text-align: right;\">\n",
       "      <th></th>\n",
       "      <th>state</th>\n",
       "      <th>sector</th>\n",
       "      <th>score</th>\n",
       "    </tr>\n",
       "  </thead>\n",
       "  <tbody>\n",
       "    <tr>\n",
       "      <th>0</th>\n",
       "      <td>AL</td>\n",
       "      <td>Agriculture</td>\n",
       "      <td>0.605255</td>\n",
       "    </tr>\n",
       "    <tr>\n",
       "      <th>1</th>\n",
       "      <td>AL</td>\n",
       "      <td>Bunker Fuels</td>\n",
       "      <td>0.713661</td>\n",
       "    </tr>\n",
       "    <tr>\n",
       "      <th>2</th>\n",
       "      <td>AL</td>\n",
       "      <td>Commercial</td>\n",
       "      <td>0.559991</td>\n",
       "    </tr>\n",
       "    <tr>\n",
       "      <th>3</th>\n",
       "      <td>AL</td>\n",
       "      <td>Electricity/Heat</td>\n",
       "      <td>0.592882</td>\n",
       "    </tr>\n",
       "    <tr>\n",
       "      <th>4</th>\n",
       "      <td>AL</td>\n",
       "      <td>Energy</td>\n",
       "      <td>0.469341</td>\n",
       "    </tr>\n",
       "    <tr>\n",
       "      <th>...</th>\n",
       "      <td>...</td>\n",
       "      <td>...</td>\n",
       "      <td>...</td>\n",
       "    </tr>\n",
       "    <tr>\n",
       "      <th>560</th>\n",
       "      <td>WY</td>\n",
       "      <td>Industry</td>\n",
       "      <td>0.663492</td>\n",
       "    </tr>\n",
       "    <tr>\n",
       "      <th>561</th>\n",
       "      <td>WY</td>\n",
       "      <td>Land-Use Change and Forestry</td>\n",
       "      <td>0.709252</td>\n",
       "    </tr>\n",
       "    <tr>\n",
       "      <th>562</th>\n",
       "      <td>WY</td>\n",
       "      <td>Residential</td>\n",
       "      <td>0.654431</td>\n",
       "    </tr>\n",
       "    <tr>\n",
       "      <th>563</th>\n",
       "      <td>WY</td>\n",
       "      <td>Transportation</td>\n",
       "      <td>0.509884</td>\n",
       "    </tr>\n",
       "    <tr>\n",
       "      <th>564</th>\n",
       "      <td>WY</td>\n",
       "      <td>Waste</td>\n",
       "      <td>0.755224</td>\n",
       "    </tr>\n",
       "  </tbody>\n",
       "</table>\n",
       "<p>565 rows × 3 columns</p>\n",
       "</div>"
      ],
      "text/plain": [
       "    state                        sector     score\n",
       "0      AL                   Agriculture  0.605255\n",
       "1      AL                  Bunker Fuels  0.713661\n",
       "2      AL                    Commercial  0.559991\n",
       "3      AL              Electricity/Heat  0.592882\n",
       "4      AL                        Energy  0.469341\n",
       "..    ...                           ...       ...\n",
       "560    WY                      Industry  0.663492\n",
       "561    WY  Land-Use Change and Forestry  0.709252\n",
       "562    WY                   Residential  0.654431\n",
       "563    WY                Transportation  0.509884\n",
       "564    WY                         Waste  0.755224\n",
       "\n",
       "[565 rows x 3 columns]"
      ]
     },
     "execution_count": 53,
     "metadata": {},
     "output_type": "execute_result"
    }
   ],
   "source": [
    "# Reduce table to unique State-Sector keys and remove 1.0 scores\n",
    "score_df.drop_duplicates(inplace=True, ignore_index=True)\n",
    "score_df = score_df.loc[score_df['score'] != 1]\n",
    "\n",
    "score_df"
   ]
  },
  {
   "cell_type": "code",
   "execution_count": 54,
   "id": "d295440c",
   "metadata": {},
   "outputs": [
    {
     "data": {
      "application/vnd.plotly.v1+json": {
       "config": {
        "plotlyServerURL": "https://plot.ly"
       },
       "data": [
        {
         "alignmentgroup": "True",
         "boxpoints": "all",
         "hovertemplate": "sector=%{x}<br>score=%{y}<extra></extra>",
         "legendgroup": "",
         "marker": {
          "color": "#636efa"
         },
         "name": "",
         "notched": false,
         "offsetgroup": "",
         "orientation": "v",
         "showlegend": false,
         "type": "box",
         "x": [
          "Agriculture",
          "Bunker Fuels",
          "Commercial",
          "Electricity/Heat",
          "Energy",
          "Fugitive Emissions",
          "Industrial Processes",
          "Industry",
          "Land-Use Change and Forestry",
          "Residential",
          "Transportation",
          "Waste",
          "Agriculture",
          "Bunker Fuels",
          "Commercial",
          "Electricity/Heat",
          "Energy",
          "Fugitive Emissions",
          "Industrial Processes",
          "Industry",
          "Land-Use Change and Forestry",
          "Residential",
          "Transportation",
          "Waste",
          "Agriculture",
          "Commercial",
          "Electricity/Heat",
          "Energy",
          "Fugitive Emissions",
          "Industrial Processes",
          "Industry",
          "Land-Use Change and Forestry",
          "Residential",
          "Transportation",
          "Waste",
          "Agriculture",
          "Commercial",
          "Electricity/Heat",
          "Energy",
          "Fugitive Emissions",
          "Industrial Processes",
          "Industry",
          "Land-Use Change and Forestry",
          "Residential",
          "Transportation",
          "Waste",
          "Agriculture",
          "Bunker Fuels",
          "Commercial",
          "Electricity/Heat",
          "Energy",
          "Fugitive Emissions",
          "Industrial Processes",
          "Industry",
          "Land-Use Change and Forestry",
          "Residential",
          "Transportation",
          "Waste",
          "Agriculture",
          "Commercial",
          "Electricity/Heat",
          "Energy",
          "Fugitive Emissions",
          "Industrial Processes",
          "Industry",
          "Land-Use Change and Forestry",
          "Residential",
          "Transportation",
          "Waste",
          "Agriculture",
          "Commercial",
          "Electricity/Heat",
          "Energy",
          "Industrial Processes",
          "Industry",
          "Land-Use Change and Forestry",
          "Residential",
          "Transportation",
          "Waste",
          "Agriculture",
          "Commercial",
          "Electricity/Heat",
          "Energy",
          "Industrial Processes",
          "Industry",
          "Land-Use Change and Forestry",
          "Residential",
          "Transportation",
          "Waste",
          "Commercial",
          "Electricity/Heat",
          "Energy",
          "Industrial Processes",
          "Industry",
          "Land-Use Change and Forestry",
          "Residential",
          "Transportation",
          "Waste",
          "Agriculture",
          "Bunker Fuels",
          "Commercial",
          "Electricity/Heat",
          "Energy",
          "Fugitive Emissions",
          "Industrial Processes",
          "Industry",
          "Land-Use Change and Forestry",
          "Residential",
          "Transportation",
          "Waste",
          "Agriculture",
          "Bunker Fuels",
          "Commercial",
          "Electricity/Heat",
          "Energy",
          "Industrial Processes",
          "Industry",
          "Land-Use Change and Forestry",
          "Residential",
          "Transportation",
          "Waste",
          "Agriculture",
          "Bunker Fuels",
          "Commercial",
          "Electricity/Heat",
          "Energy",
          "Industrial Processes",
          "Industry",
          "Land-Use Change and Forestry",
          "Residential",
          "Transportation",
          "Waste",
          "Agriculture",
          "Commercial",
          "Electricity/Heat",
          "Energy",
          "Industry",
          "Industrial Processes",
          "Land-Use Change and Forestry",
          "Residential",
          "Transportation",
          "Waste",
          "Agriculture",
          "Commercial",
          "Electricity/Heat",
          "Energy",
          "Fugitive Emissions",
          "Industrial Processes",
          "Industry",
          "Land-Use Change and Forestry",
          "Waste",
          "Residential",
          "Transportation",
          "Agriculture",
          "Commercial",
          "Electricity/Heat",
          "Energy",
          "Fugitive Emissions",
          "Industrial Processes",
          "Industry",
          "Land-Use Change and Forestry",
          "Residential",
          "Transportation",
          "Waste",
          "Agriculture",
          "Commercial",
          "Electricity/Heat",
          "Energy",
          "Industrial Processes",
          "Industry",
          "Land-Use Change and Forestry",
          "Residential",
          "Transportation",
          "Waste",
          "Agriculture",
          "Commercial",
          "Electricity/Heat",
          "Energy",
          "Fugitive Emissions",
          "Industrial Processes",
          "Waste",
          "Industry",
          "Land-Use Change and Forestry",
          "Residential",
          "Transportation",
          "Agriculture",
          "Commercial",
          "Electricity/Heat",
          "Energy",
          "Fugitive Emissions",
          "Industrial Processes",
          "Industry",
          "Land-Use Change and Forestry",
          "Residential",
          "Transportation",
          "Waste",
          "Agriculture",
          "Bunker Fuels",
          "Commercial",
          "Electricity/Heat",
          "Energy",
          "Fugitive Emissions",
          "Industrial Processes",
          "Industry",
          "Land-Use Change and Forestry",
          "Residential",
          "Transportation",
          "Waste",
          "Agriculture",
          "Bunker Fuels",
          "Commercial",
          "Electricity/Heat",
          "Energy",
          "Industrial Processes",
          "Industry",
          "Land-Use Change and Forestry",
          "Residential",
          "Transportation",
          "Waste",
          "Agriculture",
          "Bunker Fuels",
          "Commercial",
          "Electricity/Heat",
          "Energy",
          "Fugitive Emissions",
          "Industrial Processes",
          "Industry",
          "Land-Use Change and Forestry",
          "Residential",
          "Transportation",
          "Waste",
          "Agriculture",
          "Bunker Fuels",
          "Commercial",
          "Electricity/Heat",
          "Energy",
          "Industrial Processes",
          "Industry",
          "Land-Use Change and Forestry",
          "Residential",
          "Transportation",
          "Waste",
          "Agriculture",
          "Bunker Fuels",
          "Commercial",
          "Electricity/Heat",
          "Energy",
          "Fugitive Emissions",
          "Industrial Processes",
          "Industry",
          "Land-Use Change and Forestry",
          "Residential",
          "Transportation",
          "Waste",
          "Agriculture",
          "Bunker Fuels",
          "Commercial",
          "Electricity/Heat",
          "Energy",
          "Industrial Processes",
          "Industry",
          "Land-Use Change and Forestry",
          "Residential",
          "Transportation",
          "Waste",
          "Agriculture",
          "Commercial",
          "Electricity/Heat",
          "Energy",
          "Fugitive Emissions",
          "Industrial Processes",
          "Industry",
          "Land-Use Change and Forestry",
          "Residential",
          "Transportation",
          "Waste",
          "Agriculture",
          "Commercial",
          "Electricity/Heat",
          "Energy",
          "Fugitive Emissions",
          "Industrial Processes",
          "Industry",
          "Land-Use Change and Forestry",
          "Residential",
          "Transportation",
          "Waste",
          "Agriculture",
          "Commercial",
          "Electricity/Heat",
          "Energy",
          "Fugitive Emissions",
          "Industrial Processes",
          "Industry",
          "Land-Use Change and Forestry",
          "Residential",
          "Transportation",
          "Waste",
          "Agriculture",
          "Commercial",
          "Electricity/Heat",
          "Energy",
          "Fugitive Emissions",
          "Industrial Processes",
          "Industry",
          "Land-Use Change and Forestry",
          "Residential",
          "Transportation",
          "Waste",
          "Agriculture",
          "Commercial",
          "Electricity/Heat",
          "Energy",
          "Fugitive Emissions",
          "Industrial Processes",
          "Industry",
          "Land-Use Change and Forestry",
          "Residential",
          "Transportation",
          "Waste",
          "Agriculture",
          "Commercial",
          "Electricity/Heat",
          "Energy",
          "Industrial Processes",
          "Industry",
          "Land-Use Change and Forestry",
          "Residential",
          "Transportation",
          "Waste",
          "Agriculture",
          "Commercial",
          "Electricity/Heat",
          "Energy",
          "Industrial Processes",
          "Industry",
          "Land-Use Change and Forestry",
          "Residential",
          "Transportation",
          "Waste",
          "Agriculture",
          "Commercial",
          "Electricity/Heat",
          "Energy",
          "Fugitive Emissions",
          "Industrial Processes",
          "Industry",
          "Land-Use Change and Forestry",
          "Residential",
          "Transportation",
          "Waste",
          "Agriculture",
          "Bunker Fuels",
          "Commercial",
          "Electricity/Heat",
          "Energy",
          "Fugitive Emissions",
          "Industrial Processes",
          "Industry",
          "Land-Use Change and Forestry",
          "Residential",
          "Transportation",
          "Waste",
          "Agriculture",
          "Bunker Fuels",
          "Commercial",
          "Electricity/Heat",
          "Energy",
          "Industrial Processes",
          "Industry",
          "Land-Use Change and Forestry",
          "Residential",
          "Transportation",
          "Waste",
          "Agriculture",
          "Commercial",
          "Electricity/Heat",
          "Energy",
          "Fugitive Emissions",
          "Industrial Processes",
          "Industry",
          "Land-Use Change and Forestry",
          "Residential",
          "Transportation",
          "Waste",
          "Agriculture",
          "Bunker Fuels",
          "Commercial",
          "Electricity/Heat",
          "Energy",
          "Fugitive Emissions",
          "Industrial Processes",
          "Industry",
          "Land-Use Change and Forestry",
          "Residential",
          "Transportation",
          "Waste",
          "Agriculture",
          "Commercial",
          "Electricity/Heat",
          "Energy",
          "Fugitive Emissions",
          "Industrial Processes",
          "Industry",
          "Land-Use Change and Forestry",
          "Residential",
          "Transportation",
          "Waste",
          "Agriculture",
          "Bunker Fuels",
          "Commercial",
          "Electricity/Heat",
          "Energy",
          "Fugitive Emissions",
          "Industrial Processes",
          "Industry",
          "Land-Use Change and Forestry",
          "Residential",
          "Transportation",
          "Waste",
          "Agriculture",
          "Bunker Fuels",
          "Commercial",
          "Electricity/Heat",
          "Energy",
          "Fugitive Emissions",
          "Industrial Processes",
          "Industry",
          "Land-Use Change and Forestry",
          "Residential",
          "Transportation",
          "Waste",
          "Agriculture",
          "Commercial",
          "Electricity/Heat",
          "Energy",
          "Industrial Processes",
          "Industry",
          "Land-Use Change and Forestry",
          "Residential",
          "Transportation",
          "Waste",
          "Agriculture",
          "Bunker Fuels",
          "Commercial",
          "Electricity/Heat",
          "Energy",
          "Industrial Processes",
          "Industry",
          "Land-Use Change and Forestry",
          "Residential",
          "Transportation",
          "Waste",
          "Agriculture",
          "Commercial",
          "Electricity/Heat",
          "Energy",
          "Fugitive Emissions",
          "Industrial Processes",
          "Industry",
          "Land-Use Change and Forestry",
          "Residential",
          "Transportation",
          "Waste",
          "Agriculture",
          "Commercial",
          "Electricity/Heat",
          "Energy",
          "Fugitive Emissions",
          "Industrial Processes",
          "Industry",
          "Land-Use Change and Forestry",
          "Residential",
          "Transportation",
          "Waste",
          "Agriculture",
          "Bunker Fuels",
          "Commercial",
          "Electricity/Heat",
          "Energy",
          "Fugitive Emissions",
          "Industrial Processes",
          "Industry",
          "Land-Use Change and Forestry",
          "Residential",
          "Transportation",
          "Waste",
          "Agriculture",
          "Commercial",
          "Electricity/Heat",
          "Energy",
          "Fugitive Emissions",
          "Industrial Processes",
          "Industry",
          "Land-Use Change and Forestry",
          "Residential",
          "Transportation",
          "Waste",
          "Agriculture",
          "Commercial",
          "Electricity/Heat",
          "Energy",
          "Industrial Processes",
          "Industry",
          "Land-Use Change and Forestry",
          "Residential",
          "Transportation",
          "Waste",
          "Agriculture",
          "Bunker Fuels",
          "Commercial",
          "Electricity/Heat",
          "Energy",
          "Fugitive Emissions",
          "Industrial Processes",
          "Industry",
          "Land-Use Change and Forestry",
          "Residential",
          "Transportation",
          "Waste",
          "Agriculture",
          "Bunker Fuels",
          "Commercial",
          "Electricity/Heat",
          "Energy",
          "Fugitive Emissions",
          "Industrial Processes",
          "Industry",
          "Land-Use Change and Forestry",
          "Residential",
          "Transportation",
          "Waste",
          "Agriculture",
          "Commercial",
          "Electricity/Heat",
          "Energy",
          "Fugitive Emissions",
          "Industrial Processes",
          "Industry",
          "Land-Use Change and Forestry",
          "Residential",
          "Transportation",
          "Waste",
          "Agriculture",
          "Bunker Fuels",
          "Commercial",
          "Electricity/Heat",
          "Energy",
          "Industrial Processes",
          "Industry",
          "Land-Use Change and Forestry",
          "Residential",
          "Transportation",
          "Waste",
          "Agriculture",
          "Commercial",
          "Electricity/Heat",
          "Energy",
          "Fugitive Emissions",
          "Industrial Processes",
          "Industry",
          "Land-Use Change and Forestry",
          "Residential",
          "Transportation",
          "Waste"
         ],
         "x0": " ",
         "xaxis": "x",
         "y": [
          0.6052551282051282,
          0.7136611607142856,
          0.5599908333333334,
          0.5928818181818182,
          0.469340909090909,
          0.6274235294117645,
          0.46721499999999994,
          0.5287064102564101,
          0.2724914285714286,
          0.5706385714285716,
          0.8131409090909091,
          0.7830179487179486,
          0.7385388392857142,
          0.040146666666666664,
          0.5789303418803418,
          0.5525291666666666,
          0.6374700854700854,
          0.6342885964912282,
          0.7235004273504273,
          0.4753183333333332,
          0.811880357142857,
          0.5057239316239316,
          0.6363675,
          0.5116916666666667,
          0.47285085470085464,
          0.76438,
          0.7337495833333333,
          0.7592410256410256,
          0.32835000000000014,
          0.4565255208333333,
          0.5689099999999999,
          0.86295,
          0.5763307692307691,
          0.711161607142857,
          0.3359614285714285,
          0.6693045454545454,
          0.45339401709401705,
          0.6278490476190476,
          0.7617559829059829,
          0.71224,
          0.4909199999999999,
          0.43030803571428566,
          0.590642857142857,
          0.4353808035714285,
          0.45600416666666643,
          0.18858794642857113,
          0.5116141025641023,
          0.5473552380952382,
          0.7557901785714286,
          0.6454136363636364,
          0.6342782051282051,
          0.6194687499999998,
          0.8123728070175438,
          0.510892857142857,
          0.5597696581196581,
          0.7664239316239315,
          0.4862435897435897,
          0.4934254464285712,
          0.5106227272727271,
          0.6004295833333333,
          0.6885727272727273,
          0.7533045454545455,
          0.6583181818181818,
          0.49915705882352956,
          0.5576330357142857,
          0.7020045454545454,
          0.5106237499999999,
          0.5209876068376067,
          0.32644411764705883,
          0.4899772727272729,
          0.6379762499999999,
          0.48134476190476183,
          0.6367884615384614,
          0.6395142857142857,
          0.4273230769230767,
          0.6705118055555555,
          0.584118181818182,
          0.449539316239316,
          0.5407641025641026,
          0.5369641666666666,
          0.4434412499999999,
          0.5965848214285714,
          0.6124499999999999,
          0.6979976190476191,
          0.767075,
          0.7418928571428571,
          0.5066133333333332,
          0.68816375,
          0.5963045833333334,
          0.7788770833333333,
          0.6915916666666666,
          0.5688962499999999,
          0.40465000000000007,
          0.7769021367521367,
          0.5652570833333332,
          0.57062875,
          0.48762564102564077,
          0.7231055555555554,
          0.631452857142857,
          0.40850446428571396,
          0.5549700854700854,
          0.5811383333333333,
          0.60456375,
          0.7832724999999999,
          0.516048245614035,
          0.38483636363636353,
          0.4547574999999998,
          0.6729241666666667,
          0.7237119658119657,
          0.7004929166666667,
          0.6858124999999999,
          0.7678207692307693,
          0.7998772727272727,
          0.7611808333333333,
          0.7260404166666665,
          0.48835486111111104,
          0.678278205128205,
          0.8239358333333333,
          0.5749205128205126,
          0.6076483333333332,
          0.5035654166666665,
          0.7682529166666666,
          0.5272421875000002,
          0.47561919642857153,
          0.6025562499999999,
          0.733505357142857,
          0.7210136752136751,
          0.6317841666666666,
          0.8473520833333332,
          0.7264901709401708,
          0.8266468750000001,
          0.6873735294117647,
          0.6766000000000001,
          0.5116183333333333,
          0.8086282051282051,
          0.50930375,
          0.5711045454545456,
          0.6426522321428572,
          0.3678181818181818,
          0.5850845833333331,
          0.6012133333333334,
          0.6491687499999999,
          0.1964136363636363,
          0.704890909090909,
          0.597675,
          0.6542272727272727,
          0.6183320833333331,
          0.6197149572649572,
          0.7848223214285714,
          0.6164681818181819,
          0.6703254166666666,
          0.7799482905982905,
          0.75795875,
          0.5901590909090908,
          0.650578125,
          0.6449136363636363,
          0.647708547008547,
          0.5922142857142858,
          0.5532395833333331,
          0.6733883928571427,
          0.9150891666666666,
          0.5211756410256408,
          0.7306181818181818,
          0.5019961538461537,
          0.6644764957264957,
          0.44597136752136757,
          0.5632764957264956,
          0.6237803571428571,
          0.5990735042735043,
          0.6976031249999998,
          0.4585499999999999,
          0.5834478632478631,
          0.65752875,
          0.5845431623931623,
          0.42374102564102545,
          0.4547102564102562,
          0.8224809523809524,
          0.7067747863247862,
          0.8082883333333333,
          0.5927200892857143,
          0.8073119658119658,
          0.3416594017094017,
          0.34650454545454545,
          0.650486752136752,
          0.5837966666666665,
          0.7111308333333333,
          0.5279272727272728,
          0.7079041666666666,
          0.6261833333333333,
          0.5094517094017094,
          0.6424214285714287,
          0.6282,
          0.5838071428571427,
          0.39426666666666643,
          0.5537633928571428,
          0.685782380952381,
          0.7367239316239316,
          0.5812819444444443,
          0.5117915178571427,
          0.7325454545454546,
          0.5804004166666666,
          0.6400171428571427,
          0.5312395833333332,
          0.6850333333333332,
          0.6942412499999998,
          0.6574809523809524,
          0.6197431623931623,
          0.5056722222222221,
          0.6075848214285713,
          0.5332568376068374,
          0.5965016666666666,
          0.7127723214285713,
          0.7419959821428571,
          0.8209090909090909,
          0.5427609375,
          0.8158187499999999,
          0.679994017094017,
          0.42839487179487157,
          0.5309547619047619,
          0.6018636363636363,
          0.5577733333333332,
          0.6051834821428571,
          0.48294958333333315,
          0.5168179487179486,
          0.5485966666666666,
          0.7695041666666667,
          0.5718173611111109,
          0.78199375,
          0.6167272727272728,
          0.5148909090909092,
          0.5666392857142856,
          0.5885484374999999,
          0.6844497596153847,
          0.7893547008547008,
          0.5665950892857142,
          0.4565999999999999,
          0.5079975,
          0.49151517857142846,
          0.4538347222222221,
          0.556159090909091,
          0.5597772727272727,
          0.49197875,
          0.7726529166666666,
          0.70129,
          0.7469636363636363,
          0.7814290178571429,
          0.6991264957264955,
          0.7603818181818182,
          0.4658419642857141,
          0.7102966666666666,
          0.5721752136752135,
          0.6403091666666667,
          0.61548125,
          0.7743918803418803,
          0.8593054166666666,
          0.3057480952380952,
          0.6522363636363635,
          0.7894547619047619,
          0.5979820833333334,
          0.3319247058823531,
          0.5578329059829059,
          0.478920833333333,
          0.6914454545454545,
          0.5891090909090909,
          0.70455375,
          0.6614704166666666,
          0.4659303571428569,
          0.6237153846153844,
          0.7241820512820512,
          0.5940633333333332,
          0.7430888888888889,
          0.6850850427350426,
          0.22855133928571436,
          0.6308183760683759,
          0.6656779166666665,
          0.7584812499999999,
          0.6437551282051281,
          0.6618875,
          0.6986136363636364,
          0.6757545454545455,
          0.7484500000000001,
          0.6675433333333333,
          0.6288554166666667,
          0.7034,
          0.7410863247863247,
          0.46077727272727276,
          0.793867857142857,
          0.42400000000000015,
          0.6450830357142854,
          0.7937727272727273,
          0.6914688034188035,
          0.6763818181818182,
          0.7232411458333334,
          0.5151303418803417,
          0.8557683760683761,
          0.561292735042735,
          0.8411757142857142,
          0.828529411764706,
          0.61995,
          0.5814636363636363,
          0.5667237499999999,
          0.7647970833333333,
          0.5901026785714285,
          0.6412258333333334,
          0.46089658119658117,
          0.68665,
          0.4386542857142859,
          0.5146888392857142,
          0.7282952991452991,
          0.526065,
          0.6898,
          0.706619658119658,
          0.5106420833333334,
          0.4722062499999997,
          0.4212552631578944,
          0.6662829166666666,
          0.6479454545454545,
          0.7664635294117648,
          0.8324542857142857,
          0.5049465277777778,
          0.55965,
          0.4871409090909089,
          0.7290857142857142,
          0.4999861607142856,
          0.7838912499999999,
          0.7161811965811965,
          0.711586111111111,
          0.7203295833333332,
          0.6665533333333333,
          0.7794080952380953,
          0.6121181818181818,
          0.6306658333333333,
          0.5802727272727273,
          0.7429987499999999,
          0.5604852941176471,
          0.6088223214285713,
          0.8191285714285713,
          0.5193785714285716,
          0.4360208333333334,
          0.6805089285714283,
          0.7228870833333333,
          0.5104954166666666,
          0.6769025,
          0.4174675,
          0.6936058035714285,
          0.5508161458333334,
          0.45789708333333334,
          0.5087491666666666,
          0.3324454545454544,
          0.6074879166666666,
          0.6475017647058825,
          0.5196265625,
          0.6773897435897436,
          0.5002727272727272,
          0.3761260683760681,
          0.576039316239316,
          0.7527681818181817,
          0.8062456140350878,
          0.7099055555555556,
          0.685757264957265,
          0.4818724999999998,
          0.65277125,
          0.5828014285714285,
          0.32704545454545453,
          0.7414143382352942,
          0.4934735042735041,
          0.44964642857142845,
          0.5662516666666664,
          0.7597947368421052,
          0.5233120535714286,
          0.5604033333333331,
          0.7526361904761905,
          0.7482316239316239,
          0.7428590909090909,
          0.6669700892857142,
          0.623305,
          0.5346129166666667,
          0.4671678571428569,
          0.7970604761904762,
          0.4997566666666664,
          0.5973312500000001,
          0.8065272727272728,
          0.589690909090909,
          0.8313379166666667,
          0.7064756944444444,
          0.47427791666666663,
          0.34886666666666677,
          0.5703537500000001,
          0.6566379464285714,
          0.5279354700854699,
          0.5865204761904762,
          0.6247181818181818,
          0.6031749999999999,
          0.6532181818181817,
          0.51972625,
          0.6118954545454546,
          0.49812499999999993,
          0.42111324786324766,
          0.862791452991453,
          0.6154223214285715,
          0.7560227272727273,
          0.7791455357142858,
          0.550682905982906,
          0.7799623931623931,
          0.7087776190476189,
          0.5515572649572649,
          0.5743470085470085,
          0.7418713675213674,
          0.8216119658119657,
          0.8072929411764705,
          0.5948333333333332,
          0.6015696581196581,
          0.45260333333333314,
          0.7660948717948717,
          0.49048916666666653,
          0.6403987179487178,
          0.7613136363636362,
          0.40181083333333334,
          0.611986752136752,
          0.728575,
          0.5295337606837607,
          0.604542361111111,
          0.7136004273504273,
          0.7862562499999999,
          0.7418116666666665,
          0.71987125,
          0.5225247863247863,
          0.6072679166666666,
          0.6953318181818182,
          0.5728333333333333,
          0.39578080357142853,
          0.7316564102564103,
          0.5893195833333333,
          0.6247730769230768,
          0.7063045833333332,
          0.6393879166666666,
          0.6431909090909089,
          0.4653037499999999,
          0.7228534722222222,
          0.8278224999999999,
          0.6187888888888888,
          0.6101138392857142,
          0.5969442857142857,
          0.8550726495726495,
          0.26425042735042725,
          0.5403128205128205,
          0.6498545454545455,
          0.4992994791666667,
          0.664824107142857,
          0.8305200854700855,
          0.47149230769230754,
          0.5532821428571428,
          0.6189989583333333,
          0.7484195238095238,
          0.6994754166666666,
          0.6747727272727273,
          0.7003722222222222,
          0.6539700854700854,
          0.576671875,
          0.5863214285714284,
          0.6070636363636364,
          0.7965641666666666,
          0.49951473214285713,
          0.6423166666666666,
          0.6141585470085468,
          0.5754687499999999,
          0.6405252380952381,
          0.5821374999999999,
          0.5962633333333333,
          0.7027204166666666,
          0.755883482142857,
          0.5260623809523809,
          0.6111547008547008,
          0.6901055555555555,
          0.7242614285714286,
          0.7134954545454546,
          0.6170232142857142,
          0.6853541666666667,
          0.5321379166666665,
          0.572840909090909,
          0.6476104166666667,
          0.6468885416666666,
          0.7113233333333333,
          0.8204994791666668,
          0.5796690476190476,
          0.7001400000000001,
          0.6683170940170939,
          0.5686232142857144,
          0.3428508333333332,
          0.7002866666666667,
          0.6661041666666666,
          0.5188652380952381,
          0.7229571428571429,
          0.5999941666666666,
          0.6739181818181819,
          0.6489965811965812,
          0.6679374999999999,
          0.685159375,
          0.5023017094017093,
          0.4457787499999999,
          0.5907165178571427,
          0.5870957264957264,
          0.7696462500000001,
          0.4253299145299143,
          0.6472437500000002,
          0.53107094017094,
          0.5911895833333332,
          0.5121499999999999,
          0.22077047619047607,
          0.6576994791666668,
          0.5519791666666667,
          0.6565983333333332,
          0.6748033333333332,
          0.5711361904761904,
          0.5097590277777777,
          0.6951585714285713,
          0.7050441666666667,
          0.4770599999999997,
          0.5283429166666667,
          0.6291258333333332,
          0.7293607142857143,
          0.41351093750000023,
          0.7040200854700854,
          0.6889749999999999,
          0.6103158333333332,
          0.50706,
          0.6491942857142856,
          0.7515558333333332,
          0.8260964705882352,
          0.6694454545454546,
          0.4925145299145297,
          0.501425,
          0.46637777777777756,
          0.5648033333333333,
          0.6312555555555555,
          0.4853420833333333,
          0.5218102564102562,
          0.543659829059829,
          0.5893897435897435,
          0.3620711764705884,
          0.7258790178571428,
          0.6412272727272728,
          0.5284977678571425,
          0.36112,
          0.8828499999999999,
          0.6370545454545453,
          0.5904516666666666,
          0.6318208333333333,
          0.6565765625000001,
          0.6123863636363638,
          0.6084047008547007,
          0.6353590909090909,
          0.6424947619047618,
          0.6540270833333331,
          0.5442022321428571,
          0.6313871794871795,
          0.6896909090909091,
          0.6104213675213674,
          0.6594465811965811,
          0.6931589285714286,
          0.6634916666666666,
          0.7092521367521367,
          0.6544307692307691,
          0.5098841880341878,
          0.7552238095238096
         ],
         "y0": " ",
         "yaxis": "y"
        }
       ],
       "layout": {
        "boxmode": "group",
        "legend": {
         "tracegroupgap": 0
        },
        "margin": {
         "t": 60
        },
        "template": {
         "data": {
          "bar": [
           {
            "error_x": {
             "color": "#2a3f5f"
            },
            "error_y": {
             "color": "#2a3f5f"
            },
            "marker": {
             "line": {
              "color": "#E5ECF6",
              "width": 0.5
             },
             "pattern": {
              "fillmode": "overlay",
              "size": 10,
              "solidity": 0.2
             }
            },
            "type": "bar"
           }
          ],
          "barpolar": [
           {
            "marker": {
             "line": {
              "color": "#E5ECF6",
              "width": 0.5
             },
             "pattern": {
              "fillmode": "overlay",
              "size": 10,
              "solidity": 0.2
             }
            },
            "type": "barpolar"
           }
          ],
          "carpet": [
           {
            "aaxis": {
             "endlinecolor": "#2a3f5f",
             "gridcolor": "white",
             "linecolor": "white",
             "minorgridcolor": "white",
             "startlinecolor": "#2a3f5f"
            },
            "baxis": {
             "endlinecolor": "#2a3f5f",
             "gridcolor": "white",
             "linecolor": "white",
             "minorgridcolor": "white",
             "startlinecolor": "#2a3f5f"
            },
            "type": "carpet"
           }
          ],
          "choropleth": [
           {
            "colorbar": {
             "outlinewidth": 0,
             "ticks": ""
            },
            "type": "choropleth"
           }
          ],
          "contour": [
           {
            "colorbar": {
             "outlinewidth": 0,
             "ticks": ""
            },
            "colorscale": [
             [
              0,
              "#0d0887"
             ],
             [
              0.1111111111111111,
              "#46039f"
             ],
             [
              0.2222222222222222,
              "#7201a8"
             ],
             [
              0.3333333333333333,
              "#9c179e"
             ],
             [
              0.4444444444444444,
              "#bd3786"
             ],
             [
              0.5555555555555556,
              "#d8576b"
             ],
             [
              0.6666666666666666,
              "#ed7953"
             ],
             [
              0.7777777777777778,
              "#fb9f3a"
             ],
             [
              0.8888888888888888,
              "#fdca26"
             ],
             [
              1,
              "#f0f921"
             ]
            ],
            "type": "contour"
           }
          ],
          "contourcarpet": [
           {
            "colorbar": {
             "outlinewidth": 0,
             "ticks": ""
            },
            "type": "contourcarpet"
           }
          ],
          "heatmap": [
           {
            "colorbar": {
             "outlinewidth": 0,
             "ticks": ""
            },
            "colorscale": [
             [
              0,
              "#0d0887"
             ],
             [
              0.1111111111111111,
              "#46039f"
             ],
             [
              0.2222222222222222,
              "#7201a8"
             ],
             [
              0.3333333333333333,
              "#9c179e"
             ],
             [
              0.4444444444444444,
              "#bd3786"
             ],
             [
              0.5555555555555556,
              "#d8576b"
             ],
             [
              0.6666666666666666,
              "#ed7953"
             ],
             [
              0.7777777777777778,
              "#fb9f3a"
             ],
             [
              0.8888888888888888,
              "#fdca26"
             ],
             [
              1,
              "#f0f921"
             ]
            ],
            "type": "heatmap"
           }
          ],
          "heatmapgl": [
           {
            "colorbar": {
             "outlinewidth": 0,
             "ticks": ""
            },
            "colorscale": [
             [
              0,
              "#0d0887"
             ],
             [
              0.1111111111111111,
              "#46039f"
             ],
             [
              0.2222222222222222,
              "#7201a8"
             ],
             [
              0.3333333333333333,
              "#9c179e"
             ],
             [
              0.4444444444444444,
              "#bd3786"
             ],
             [
              0.5555555555555556,
              "#d8576b"
             ],
             [
              0.6666666666666666,
              "#ed7953"
             ],
             [
              0.7777777777777778,
              "#fb9f3a"
             ],
             [
              0.8888888888888888,
              "#fdca26"
             ],
             [
              1,
              "#f0f921"
             ]
            ],
            "type": "heatmapgl"
           }
          ],
          "histogram": [
           {
            "marker": {
             "pattern": {
              "fillmode": "overlay",
              "size": 10,
              "solidity": 0.2
             }
            },
            "type": "histogram"
           }
          ],
          "histogram2d": [
           {
            "colorbar": {
             "outlinewidth": 0,
             "ticks": ""
            },
            "colorscale": [
             [
              0,
              "#0d0887"
             ],
             [
              0.1111111111111111,
              "#46039f"
             ],
             [
              0.2222222222222222,
              "#7201a8"
             ],
             [
              0.3333333333333333,
              "#9c179e"
             ],
             [
              0.4444444444444444,
              "#bd3786"
             ],
             [
              0.5555555555555556,
              "#d8576b"
             ],
             [
              0.6666666666666666,
              "#ed7953"
             ],
             [
              0.7777777777777778,
              "#fb9f3a"
             ],
             [
              0.8888888888888888,
              "#fdca26"
             ],
             [
              1,
              "#f0f921"
             ]
            ],
            "type": "histogram2d"
           }
          ],
          "histogram2dcontour": [
           {
            "colorbar": {
             "outlinewidth": 0,
             "ticks": ""
            },
            "colorscale": [
             [
              0,
              "#0d0887"
             ],
             [
              0.1111111111111111,
              "#46039f"
             ],
             [
              0.2222222222222222,
              "#7201a8"
             ],
             [
              0.3333333333333333,
              "#9c179e"
             ],
             [
              0.4444444444444444,
              "#bd3786"
             ],
             [
              0.5555555555555556,
              "#d8576b"
             ],
             [
              0.6666666666666666,
              "#ed7953"
             ],
             [
              0.7777777777777778,
              "#fb9f3a"
             ],
             [
              0.8888888888888888,
              "#fdca26"
             ],
             [
              1,
              "#f0f921"
             ]
            ],
            "type": "histogram2dcontour"
           }
          ],
          "mesh3d": [
           {
            "colorbar": {
             "outlinewidth": 0,
             "ticks": ""
            },
            "type": "mesh3d"
           }
          ],
          "parcoords": [
           {
            "line": {
             "colorbar": {
              "outlinewidth": 0,
              "ticks": ""
             }
            },
            "type": "parcoords"
           }
          ],
          "pie": [
           {
            "automargin": true,
            "type": "pie"
           }
          ],
          "scatter": [
           {
            "marker": {
             "colorbar": {
              "outlinewidth": 0,
              "ticks": ""
             }
            },
            "type": "scatter"
           }
          ],
          "scatter3d": [
           {
            "line": {
             "colorbar": {
              "outlinewidth": 0,
              "ticks": ""
             }
            },
            "marker": {
             "colorbar": {
              "outlinewidth": 0,
              "ticks": ""
             }
            },
            "type": "scatter3d"
           }
          ],
          "scattercarpet": [
           {
            "marker": {
             "colorbar": {
              "outlinewidth": 0,
              "ticks": ""
             }
            },
            "type": "scattercarpet"
           }
          ],
          "scattergeo": [
           {
            "marker": {
             "colorbar": {
              "outlinewidth": 0,
              "ticks": ""
             }
            },
            "type": "scattergeo"
           }
          ],
          "scattergl": [
           {
            "marker": {
             "colorbar": {
              "outlinewidth": 0,
              "ticks": ""
             }
            },
            "type": "scattergl"
           }
          ],
          "scattermapbox": [
           {
            "marker": {
             "colorbar": {
              "outlinewidth": 0,
              "ticks": ""
             }
            },
            "type": "scattermapbox"
           }
          ],
          "scatterpolar": [
           {
            "marker": {
             "colorbar": {
              "outlinewidth": 0,
              "ticks": ""
             }
            },
            "type": "scatterpolar"
           }
          ],
          "scatterpolargl": [
           {
            "marker": {
             "colorbar": {
              "outlinewidth": 0,
              "ticks": ""
             }
            },
            "type": "scatterpolargl"
           }
          ],
          "scatterternary": [
           {
            "marker": {
             "colorbar": {
              "outlinewidth": 0,
              "ticks": ""
             }
            },
            "type": "scatterternary"
           }
          ],
          "surface": [
           {
            "colorbar": {
             "outlinewidth": 0,
             "ticks": ""
            },
            "colorscale": [
             [
              0,
              "#0d0887"
             ],
             [
              0.1111111111111111,
              "#46039f"
             ],
             [
              0.2222222222222222,
              "#7201a8"
             ],
             [
              0.3333333333333333,
              "#9c179e"
             ],
             [
              0.4444444444444444,
              "#bd3786"
             ],
             [
              0.5555555555555556,
              "#d8576b"
             ],
             [
              0.6666666666666666,
              "#ed7953"
             ],
             [
              0.7777777777777778,
              "#fb9f3a"
             ],
             [
              0.8888888888888888,
              "#fdca26"
             ],
             [
              1,
              "#f0f921"
             ]
            ],
            "type": "surface"
           }
          ],
          "table": [
           {
            "cells": {
             "fill": {
              "color": "#EBF0F8"
             },
             "line": {
              "color": "white"
             }
            },
            "header": {
             "fill": {
              "color": "#C8D4E3"
             },
             "line": {
              "color": "white"
             }
            },
            "type": "table"
           }
          ]
         },
         "layout": {
          "annotationdefaults": {
           "arrowcolor": "#2a3f5f",
           "arrowhead": 0,
           "arrowwidth": 1
          },
          "autotypenumbers": "strict",
          "coloraxis": {
           "colorbar": {
            "outlinewidth": 0,
            "ticks": ""
           }
          },
          "colorscale": {
           "diverging": [
            [
             0,
             "#8e0152"
            ],
            [
             0.1,
             "#c51b7d"
            ],
            [
             0.2,
             "#de77ae"
            ],
            [
             0.3,
             "#f1b6da"
            ],
            [
             0.4,
             "#fde0ef"
            ],
            [
             0.5,
             "#f7f7f7"
            ],
            [
             0.6,
             "#e6f5d0"
            ],
            [
             0.7,
             "#b8e186"
            ],
            [
             0.8,
             "#7fbc41"
            ],
            [
             0.9,
             "#4d9221"
            ],
            [
             1,
             "#276419"
            ]
           ],
           "sequential": [
            [
             0,
             "#0d0887"
            ],
            [
             0.1111111111111111,
             "#46039f"
            ],
            [
             0.2222222222222222,
             "#7201a8"
            ],
            [
             0.3333333333333333,
             "#9c179e"
            ],
            [
             0.4444444444444444,
             "#bd3786"
            ],
            [
             0.5555555555555556,
             "#d8576b"
            ],
            [
             0.6666666666666666,
             "#ed7953"
            ],
            [
             0.7777777777777778,
             "#fb9f3a"
            ],
            [
             0.8888888888888888,
             "#fdca26"
            ],
            [
             1,
             "#f0f921"
            ]
           ],
           "sequentialminus": [
            [
             0,
             "#0d0887"
            ],
            [
             0.1111111111111111,
             "#46039f"
            ],
            [
             0.2222222222222222,
             "#7201a8"
            ],
            [
             0.3333333333333333,
             "#9c179e"
            ],
            [
             0.4444444444444444,
             "#bd3786"
            ],
            [
             0.5555555555555556,
             "#d8576b"
            ],
            [
             0.6666666666666666,
             "#ed7953"
            ],
            [
             0.7777777777777778,
             "#fb9f3a"
            ],
            [
             0.8888888888888888,
             "#fdca26"
            ],
            [
             1,
             "#f0f921"
            ]
           ]
          },
          "colorway": [
           "#636efa",
           "#EF553B",
           "#00cc96",
           "#ab63fa",
           "#FFA15A",
           "#19d3f3",
           "#FF6692",
           "#B6E880",
           "#FF97FF",
           "#FECB52"
          ],
          "font": {
           "color": "#2a3f5f"
          },
          "geo": {
           "bgcolor": "white",
           "lakecolor": "white",
           "landcolor": "#E5ECF6",
           "showlakes": true,
           "showland": true,
           "subunitcolor": "white"
          },
          "hoverlabel": {
           "align": "left"
          },
          "hovermode": "closest",
          "mapbox": {
           "style": "light"
          },
          "paper_bgcolor": "white",
          "plot_bgcolor": "#E5ECF6",
          "polar": {
           "angularaxis": {
            "gridcolor": "white",
            "linecolor": "white",
            "ticks": ""
           },
           "bgcolor": "#E5ECF6",
           "radialaxis": {
            "gridcolor": "white",
            "linecolor": "white",
            "ticks": ""
           }
          },
          "scene": {
           "xaxis": {
            "backgroundcolor": "#E5ECF6",
            "gridcolor": "white",
            "gridwidth": 2,
            "linecolor": "white",
            "showbackground": true,
            "ticks": "",
            "zerolinecolor": "white"
           },
           "yaxis": {
            "backgroundcolor": "#E5ECF6",
            "gridcolor": "white",
            "gridwidth": 2,
            "linecolor": "white",
            "showbackground": true,
            "ticks": "",
            "zerolinecolor": "white"
           },
           "zaxis": {
            "backgroundcolor": "#E5ECF6",
            "gridcolor": "white",
            "gridwidth": 2,
            "linecolor": "white",
            "showbackground": true,
            "ticks": "",
            "zerolinecolor": "white"
           }
          },
          "shapedefaults": {
           "line": {
            "color": "#2a3f5f"
           }
          },
          "ternary": {
           "aaxis": {
            "gridcolor": "white",
            "linecolor": "white",
            "ticks": ""
           },
           "baxis": {
            "gridcolor": "white",
            "linecolor": "white",
            "ticks": ""
           },
           "bgcolor": "#E5ECF6",
           "caxis": {
            "gridcolor": "white",
            "linecolor": "white",
            "ticks": ""
           }
          },
          "title": {
           "x": 0.05
          },
          "xaxis": {
           "automargin": true,
           "gridcolor": "white",
           "linecolor": "white",
           "ticks": "",
           "title": {
            "standoff": 15
           },
           "zerolinecolor": "white",
           "zerolinewidth": 2
          },
          "yaxis": {
           "automargin": true,
           "gridcolor": "white",
           "linecolor": "white",
           "ticks": "",
           "title": {
            "standoff": 15
           },
           "zerolinecolor": "white",
           "zerolinewidth": 2
          }
         }
        },
        "xaxis": {
         "anchor": "y",
         "domain": [
          0,
          1
         ],
         "title": {
          "text": "sector"
         }
        },
        "yaxis": {
         "anchor": "x",
         "domain": [
          0,
          1
         ],
         "title": {
          "text": "score"
         }
        }
       }
      },
      "text/html": [
       "<div>                            <div id=\"ceae3524-e11a-4983-9c07-862634407d12\" class=\"plotly-graph-div\" style=\"height:525px; width:100%;\"></div>            <script type=\"text/javascript\">                require([\"plotly\"], function(Plotly) {                    window.PLOTLYENV=window.PLOTLYENV || {};                                    if (document.getElementById(\"ceae3524-e11a-4983-9c07-862634407d12\")) {                    Plotly.newPlot(                        \"ceae3524-e11a-4983-9c07-862634407d12\",                        [{\"alignmentgroup\":\"True\",\"boxpoints\":\"all\",\"hovertemplate\":\"sector=%{x}<br>score=%{y}<extra></extra>\",\"legendgroup\":\"\",\"marker\":{\"color\":\"#636efa\"},\"name\":\"\",\"notched\":false,\"offsetgroup\":\"\",\"orientation\":\"v\",\"showlegend\":false,\"x\":[\"Agriculture\",\"Bunker Fuels\",\"Commercial\",\"Electricity/Heat\",\"Energy\",\"Fugitive Emissions\",\"Industrial Processes\",\"Industry\",\"Land-Use Change and Forestry\",\"Residential\",\"Transportation\",\"Waste\",\"Agriculture\",\"Bunker Fuels\",\"Commercial\",\"Electricity/Heat\",\"Energy\",\"Fugitive Emissions\",\"Industrial Processes\",\"Industry\",\"Land-Use Change and Forestry\",\"Residential\",\"Transportation\",\"Waste\",\"Agriculture\",\"Commercial\",\"Electricity/Heat\",\"Energy\",\"Fugitive Emissions\",\"Industrial Processes\",\"Industry\",\"Land-Use Change and Forestry\",\"Residential\",\"Transportation\",\"Waste\",\"Agriculture\",\"Commercial\",\"Electricity/Heat\",\"Energy\",\"Fugitive Emissions\",\"Industrial Processes\",\"Industry\",\"Land-Use Change and Forestry\",\"Residential\",\"Transportation\",\"Waste\",\"Agriculture\",\"Bunker Fuels\",\"Commercial\",\"Electricity/Heat\",\"Energy\",\"Fugitive Emissions\",\"Industrial Processes\",\"Industry\",\"Land-Use Change and Forestry\",\"Residential\",\"Transportation\",\"Waste\",\"Agriculture\",\"Commercial\",\"Electricity/Heat\",\"Energy\",\"Fugitive Emissions\",\"Industrial Processes\",\"Industry\",\"Land-Use Change and Forestry\",\"Residential\",\"Transportation\",\"Waste\",\"Agriculture\",\"Commercial\",\"Electricity/Heat\",\"Energy\",\"Industrial Processes\",\"Industry\",\"Land-Use Change and Forestry\",\"Residential\",\"Transportation\",\"Waste\",\"Agriculture\",\"Commercial\",\"Electricity/Heat\",\"Energy\",\"Industrial Processes\",\"Industry\",\"Land-Use Change and Forestry\",\"Residential\",\"Transportation\",\"Waste\",\"Commercial\",\"Electricity/Heat\",\"Energy\",\"Industrial Processes\",\"Industry\",\"Land-Use Change and Forestry\",\"Residential\",\"Transportation\",\"Waste\",\"Agriculture\",\"Bunker Fuels\",\"Commercial\",\"Electricity/Heat\",\"Energy\",\"Fugitive Emissions\",\"Industrial Processes\",\"Industry\",\"Land-Use Change and Forestry\",\"Residential\",\"Transportation\",\"Waste\",\"Agriculture\",\"Bunker Fuels\",\"Commercial\",\"Electricity/Heat\",\"Energy\",\"Industrial Processes\",\"Industry\",\"Land-Use Change and Forestry\",\"Residential\",\"Transportation\",\"Waste\",\"Agriculture\",\"Bunker Fuels\",\"Commercial\",\"Electricity/Heat\",\"Energy\",\"Industrial Processes\",\"Industry\",\"Land-Use Change and Forestry\",\"Residential\",\"Transportation\",\"Waste\",\"Agriculture\",\"Commercial\",\"Electricity/Heat\",\"Energy\",\"Industry\",\"Industrial Processes\",\"Land-Use Change and Forestry\",\"Residential\",\"Transportation\",\"Waste\",\"Agriculture\",\"Commercial\",\"Electricity/Heat\",\"Energy\",\"Fugitive Emissions\",\"Industrial Processes\",\"Industry\",\"Land-Use Change and Forestry\",\"Waste\",\"Residential\",\"Transportation\",\"Agriculture\",\"Commercial\",\"Electricity/Heat\",\"Energy\",\"Fugitive Emissions\",\"Industrial Processes\",\"Industry\",\"Land-Use Change and Forestry\",\"Residential\",\"Transportation\",\"Waste\",\"Agriculture\",\"Commercial\",\"Electricity/Heat\",\"Energy\",\"Industrial Processes\",\"Industry\",\"Land-Use Change and Forestry\",\"Residential\",\"Transportation\",\"Waste\",\"Agriculture\",\"Commercial\",\"Electricity/Heat\",\"Energy\",\"Fugitive Emissions\",\"Industrial Processes\",\"Waste\",\"Industry\",\"Land-Use Change and Forestry\",\"Residential\",\"Transportation\",\"Agriculture\",\"Commercial\",\"Electricity/Heat\",\"Energy\",\"Fugitive Emissions\",\"Industrial Processes\",\"Industry\",\"Land-Use Change and Forestry\",\"Residential\",\"Transportation\",\"Waste\",\"Agriculture\",\"Bunker Fuels\",\"Commercial\",\"Electricity/Heat\",\"Energy\",\"Fugitive Emissions\",\"Industrial Processes\",\"Industry\",\"Land-Use Change and Forestry\",\"Residential\",\"Transportation\",\"Waste\",\"Agriculture\",\"Bunker Fuels\",\"Commercial\",\"Electricity/Heat\",\"Energy\",\"Industrial Processes\",\"Industry\",\"Land-Use Change and Forestry\",\"Residential\",\"Transportation\",\"Waste\",\"Agriculture\",\"Bunker Fuels\",\"Commercial\",\"Electricity/Heat\",\"Energy\",\"Fugitive Emissions\",\"Industrial Processes\",\"Industry\",\"Land-Use Change and Forestry\",\"Residential\",\"Transportation\",\"Waste\",\"Agriculture\",\"Bunker Fuels\",\"Commercial\",\"Electricity/Heat\",\"Energy\",\"Industrial Processes\",\"Industry\",\"Land-Use Change and Forestry\",\"Residential\",\"Transportation\",\"Waste\",\"Agriculture\",\"Bunker Fuels\",\"Commercial\",\"Electricity/Heat\",\"Energy\",\"Fugitive Emissions\",\"Industrial Processes\",\"Industry\",\"Land-Use Change and Forestry\",\"Residential\",\"Transportation\",\"Waste\",\"Agriculture\",\"Bunker Fuels\",\"Commercial\",\"Electricity/Heat\",\"Energy\",\"Industrial Processes\",\"Industry\",\"Land-Use Change and Forestry\",\"Residential\",\"Transportation\",\"Waste\",\"Agriculture\",\"Commercial\",\"Electricity/Heat\",\"Energy\",\"Fugitive Emissions\",\"Industrial Processes\",\"Industry\",\"Land-Use Change and Forestry\",\"Residential\",\"Transportation\",\"Waste\",\"Agriculture\",\"Commercial\",\"Electricity/Heat\",\"Energy\",\"Fugitive Emissions\",\"Industrial Processes\",\"Industry\",\"Land-Use Change and Forestry\",\"Residential\",\"Transportation\",\"Waste\",\"Agriculture\",\"Commercial\",\"Electricity/Heat\",\"Energy\",\"Fugitive Emissions\",\"Industrial Processes\",\"Industry\",\"Land-Use Change and Forestry\",\"Residential\",\"Transportation\",\"Waste\",\"Agriculture\",\"Commercial\",\"Electricity/Heat\",\"Energy\",\"Fugitive Emissions\",\"Industrial Processes\",\"Industry\",\"Land-Use Change and Forestry\",\"Residential\",\"Transportation\",\"Waste\",\"Agriculture\",\"Commercial\",\"Electricity/Heat\",\"Energy\",\"Fugitive Emissions\",\"Industrial Processes\",\"Industry\",\"Land-Use Change and Forestry\",\"Residential\",\"Transportation\",\"Waste\",\"Agriculture\",\"Commercial\",\"Electricity/Heat\",\"Energy\",\"Industrial Processes\",\"Industry\",\"Land-Use Change and Forestry\",\"Residential\",\"Transportation\",\"Waste\",\"Agriculture\",\"Commercial\",\"Electricity/Heat\",\"Energy\",\"Industrial Processes\",\"Industry\",\"Land-Use Change and Forestry\",\"Residential\",\"Transportation\",\"Waste\",\"Agriculture\",\"Commercial\",\"Electricity/Heat\",\"Energy\",\"Fugitive Emissions\",\"Industrial Processes\",\"Industry\",\"Land-Use Change and Forestry\",\"Residential\",\"Transportation\",\"Waste\",\"Agriculture\",\"Bunker Fuels\",\"Commercial\",\"Electricity/Heat\",\"Energy\",\"Fugitive Emissions\",\"Industrial Processes\",\"Industry\",\"Land-Use Change and Forestry\",\"Residential\",\"Transportation\",\"Waste\",\"Agriculture\",\"Bunker Fuels\",\"Commercial\",\"Electricity/Heat\",\"Energy\",\"Industrial Processes\",\"Industry\",\"Land-Use Change and Forestry\",\"Residential\",\"Transportation\",\"Waste\",\"Agriculture\",\"Commercial\",\"Electricity/Heat\",\"Energy\",\"Fugitive Emissions\",\"Industrial Processes\",\"Industry\",\"Land-Use Change and Forestry\",\"Residential\",\"Transportation\",\"Waste\",\"Agriculture\",\"Bunker Fuels\",\"Commercial\",\"Electricity/Heat\",\"Energy\",\"Fugitive Emissions\",\"Industrial Processes\",\"Industry\",\"Land-Use Change and Forestry\",\"Residential\",\"Transportation\",\"Waste\",\"Agriculture\",\"Commercial\",\"Electricity/Heat\",\"Energy\",\"Fugitive Emissions\",\"Industrial Processes\",\"Industry\",\"Land-Use Change and Forestry\",\"Residential\",\"Transportation\",\"Waste\",\"Agriculture\",\"Bunker Fuels\",\"Commercial\",\"Electricity/Heat\",\"Energy\",\"Fugitive Emissions\",\"Industrial Processes\",\"Industry\",\"Land-Use Change and Forestry\",\"Residential\",\"Transportation\",\"Waste\",\"Agriculture\",\"Bunker Fuels\",\"Commercial\",\"Electricity/Heat\",\"Energy\",\"Fugitive Emissions\",\"Industrial Processes\",\"Industry\",\"Land-Use Change and Forestry\",\"Residential\",\"Transportation\",\"Waste\",\"Agriculture\",\"Commercial\",\"Electricity/Heat\",\"Energy\",\"Industrial Processes\",\"Industry\",\"Land-Use Change and Forestry\",\"Residential\",\"Transportation\",\"Waste\",\"Agriculture\",\"Bunker Fuels\",\"Commercial\",\"Electricity/Heat\",\"Energy\",\"Industrial Processes\",\"Industry\",\"Land-Use Change and Forestry\",\"Residential\",\"Transportation\",\"Waste\",\"Agriculture\",\"Commercial\",\"Electricity/Heat\",\"Energy\",\"Fugitive Emissions\",\"Industrial Processes\",\"Industry\",\"Land-Use Change and Forestry\",\"Residential\",\"Transportation\",\"Waste\",\"Agriculture\",\"Commercial\",\"Electricity/Heat\",\"Energy\",\"Fugitive Emissions\",\"Industrial Processes\",\"Industry\",\"Land-Use Change and Forestry\",\"Residential\",\"Transportation\",\"Waste\",\"Agriculture\",\"Bunker Fuels\",\"Commercial\",\"Electricity/Heat\",\"Energy\",\"Fugitive Emissions\",\"Industrial Processes\",\"Industry\",\"Land-Use Change and Forestry\",\"Residential\",\"Transportation\",\"Waste\",\"Agriculture\",\"Commercial\",\"Electricity/Heat\",\"Energy\",\"Fugitive Emissions\",\"Industrial Processes\",\"Industry\",\"Land-Use Change and Forestry\",\"Residential\",\"Transportation\",\"Waste\",\"Agriculture\",\"Commercial\",\"Electricity/Heat\",\"Energy\",\"Industrial Processes\",\"Industry\",\"Land-Use Change and Forestry\",\"Residential\",\"Transportation\",\"Waste\",\"Agriculture\",\"Bunker Fuels\",\"Commercial\",\"Electricity/Heat\",\"Energy\",\"Fugitive Emissions\",\"Industrial Processes\",\"Industry\",\"Land-Use Change and Forestry\",\"Residential\",\"Transportation\",\"Waste\",\"Agriculture\",\"Bunker Fuels\",\"Commercial\",\"Electricity/Heat\",\"Energy\",\"Fugitive Emissions\",\"Industrial Processes\",\"Industry\",\"Land-Use Change and Forestry\",\"Residential\",\"Transportation\",\"Waste\",\"Agriculture\",\"Commercial\",\"Electricity/Heat\",\"Energy\",\"Fugitive Emissions\",\"Industrial Processes\",\"Industry\",\"Land-Use Change and Forestry\",\"Residential\",\"Transportation\",\"Waste\",\"Agriculture\",\"Bunker Fuels\",\"Commercial\",\"Electricity/Heat\",\"Energy\",\"Industrial Processes\",\"Industry\",\"Land-Use Change and Forestry\",\"Residential\",\"Transportation\",\"Waste\",\"Agriculture\",\"Commercial\",\"Electricity/Heat\",\"Energy\",\"Fugitive Emissions\",\"Industrial Processes\",\"Industry\",\"Land-Use Change and Forestry\",\"Residential\",\"Transportation\",\"Waste\"],\"x0\":\" \",\"xaxis\":\"x\",\"y\":[0.6052551282051282,0.7136611607142856,0.5599908333333334,0.5928818181818182,0.469340909090909,0.6274235294117645,0.46721499999999994,0.5287064102564101,0.2724914285714286,0.5706385714285716,0.8131409090909091,0.7830179487179486,0.7385388392857142,0.040146666666666664,0.5789303418803418,0.5525291666666666,0.6374700854700854,0.6342885964912282,0.7235004273504273,0.4753183333333332,0.811880357142857,0.5057239316239316,0.6363675,0.5116916666666667,0.47285085470085464,0.76438,0.7337495833333333,0.7592410256410256,0.32835000000000014,0.4565255208333333,0.5689099999999999,0.86295,0.5763307692307691,0.711161607142857,0.3359614285714285,0.6693045454545454,0.45339401709401705,0.6278490476190476,0.7617559829059829,0.71224,0.4909199999999999,0.43030803571428566,0.590642857142857,0.4353808035714285,0.45600416666666643,0.18858794642857113,0.5116141025641023,0.5473552380952382,0.7557901785714286,0.6454136363636364,0.6342782051282051,0.6194687499999998,0.8123728070175438,0.510892857142857,0.5597696581196581,0.7664239316239315,0.4862435897435897,0.4934254464285712,0.5106227272727271,0.6004295833333333,0.6885727272727273,0.7533045454545455,0.6583181818181818,0.49915705882352956,0.5576330357142857,0.7020045454545454,0.5106237499999999,0.5209876068376067,0.32644411764705883,0.4899772727272729,0.6379762499999999,0.48134476190476183,0.6367884615384614,0.6395142857142857,0.4273230769230767,0.6705118055555555,0.584118181818182,0.449539316239316,0.5407641025641026,0.5369641666666666,0.4434412499999999,0.5965848214285714,0.6124499999999999,0.6979976190476191,0.767075,0.7418928571428571,0.5066133333333332,0.68816375,0.5963045833333334,0.7788770833333333,0.6915916666666666,0.5688962499999999,0.40465000000000007,0.7769021367521367,0.5652570833333332,0.57062875,0.48762564102564077,0.7231055555555554,0.631452857142857,0.40850446428571396,0.5549700854700854,0.5811383333333333,0.60456375,0.7832724999999999,0.516048245614035,0.38483636363636353,0.4547574999999998,0.6729241666666667,0.7237119658119657,0.7004929166666667,0.6858124999999999,0.7678207692307693,0.7998772727272727,0.7611808333333333,0.7260404166666665,0.48835486111111104,0.678278205128205,0.8239358333333333,0.5749205128205126,0.6076483333333332,0.5035654166666665,0.7682529166666666,0.5272421875000002,0.47561919642857153,0.6025562499999999,0.733505357142857,0.7210136752136751,0.6317841666666666,0.8473520833333332,0.7264901709401708,0.8266468750000001,0.6873735294117647,0.6766000000000001,0.5116183333333333,0.8086282051282051,0.50930375,0.5711045454545456,0.6426522321428572,0.3678181818181818,0.5850845833333331,0.6012133333333334,0.6491687499999999,0.1964136363636363,0.704890909090909,0.597675,0.6542272727272727,0.6183320833333331,0.6197149572649572,0.7848223214285714,0.6164681818181819,0.6703254166666666,0.7799482905982905,0.75795875,0.5901590909090908,0.650578125,0.6449136363636363,0.647708547008547,0.5922142857142858,0.5532395833333331,0.6733883928571427,0.9150891666666666,0.5211756410256408,0.7306181818181818,0.5019961538461537,0.6644764957264957,0.44597136752136757,0.5632764957264956,0.6237803571428571,0.5990735042735043,0.6976031249999998,0.4585499999999999,0.5834478632478631,0.65752875,0.5845431623931623,0.42374102564102545,0.4547102564102562,0.8224809523809524,0.7067747863247862,0.8082883333333333,0.5927200892857143,0.8073119658119658,0.3416594017094017,0.34650454545454545,0.650486752136752,0.5837966666666665,0.7111308333333333,0.5279272727272728,0.7079041666666666,0.6261833333333333,0.5094517094017094,0.6424214285714287,0.6282,0.5838071428571427,0.39426666666666643,0.5537633928571428,0.685782380952381,0.7367239316239316,0.5812819444444443,0.5117915178571427,0.7325454545454546,0.5804004166666666,0.6400171428571427,0.5312395833333332,0.6850333333333332,0.6942412499999998,0.6574809523809524,0.6197431623931623,0.5056722222222221,0.6075848214285713,0.5332568376068374,0.5965016666666666,0.7127723214285713,0.7419959821428571,0.8209090909090909,0.5427609375,0.8158187499999999,0.679994017094017,0.42839487179487157,0.5309547619047619,0.6018636363636363,0.5577733333333332,0.6051834821428571,0.48294958333333315,0.5168179487179486,0.5485966666666666,0.7695041666666667,0.5718173611111109,0.78199375,0.6167272727272728,0.5148909090909092,0.5666392857142856,0.5885484374999999,0.6844497596153847,0.7893547008547008,0.5665950892857142,0.4565999999999999,0.5079975,0.49151517857142846,0.4538347222222221,0.556159090909091,0.5597772727272727,0.49197875,0.7726529166666666,0.70129,0.7469636363636363,0.7814290178571429,0.6991264957264955,0.7603818181818182,0.4658419642857141,0.7102966666666666,0.5721752136752135,0.6403091666666667,0.61548125,0.7743918803418803,0.8593054166666666,0.3057480952380952,0.6522363636363635,0.7894547619047619,0.5979820833333334,0.3319247058823531,0.5578329059829059,0.478920833333333,0.6914454545454545,0.5891090909090909,0.70455375,0.6614704166666666,0.4659303571428569,0.6237153846153844,0.7241820512820512,0.5940633333333332,0.7430888888888889,0.6850850427350426,0.22855133928571436,0.6308183760683759,0.6656779166666665,0.7584812499999999,0.6437551282051281,0.6618875,0.6986136363636364,0.6757545454545455,0.7484500000000001,0.6675433333333333,0.6288554166666667,0.7034,0.7410863247863247,0.46077727272727276,0.793867857142857,0.42400000000000015,0.6450830357142854,0.7937727272727273,0.6914688034188035,0.6763818181818182,0.7232411458333334,0.5151303418803417,0.8557683760683761,0.561292735042735,0.8411757142857142,0.828529411764706,0.61995,0.5814636363636363,0.5667237499999999,0.7647970833333333,0.5901026785714285,0.6412258333333334,0.46089658119658117,0.68665,0.4386542857142859,0.5146888392857142,0.7282952991452991,0.526065,0.6898,0.706619658119658,0.5106420833333334,0.4722062499999997,0.4212552631578944,0.6662829166666666,0.6479454545454545,0.7664635294117648,0.8324542857142857,0.5049465277777778,0.55965,0.4871409090909089,0.7290857142857142,0.4999861607142856,0.7838912499999999,0.7161811965811965,0.711586111111111,0.7203295833333332,0.6665533333333333,0.7794080952380953,0.6121181818181818,0.6306658333333333,0.5802727272727273,0.7429987499999999,0.5604852941176471,0.6088223214285713,0.8191285714285713,0.5193785714285716,0.4360208333333334,0.6805089285714283,0.7228870833333333,0.5104954166666666,0.6769025,0.4174675,0.6936058035714285,0.5508161458333334,0.45789708333333334,0.5087491666666666,0.3324454545454544,0.6074879166666666,0.6475017647058825,0.5196265625,0.6773897435897436,0.5002727272727272,0.3761260683760681,0.576039316239316,0.7527681818181817,0.8062456140350878,0.7099055555555556,0.685757264957265,0.4818724999999998,0.65277125,0.5828014285714285,0.32704545454545453,0.7414143382352942,0.4934735042735041,0.44964642857142845,0.5662516666666664,0.7597947368421052,0.5233120535714286,0.5604033333333331,0.7526361904761905,0.7482316239316239,0.7428590909090909,0.6669700892857142,0.623305,0.5346129166666667,0.4671678571428569,0.7970604761904762,0.4997566666666664,0.5973312500000001,0.8065272727272728,0.589690909090909,0.8313379166666667,0.7064756944444444,0.47427791666666663,0.34886666666666677,0.5703537500000001,0.6566379464285714,0.5279354700854699,0.5865204761904762,0.6247181818181818,0.6031749999999999,0.6532181818181817,0.51972625,0.6118954545454546,0.49812499999999993,0.42111324786324766,0.862791452991453,0.6154223214285715,0.7560227272727273,0.7791455357142858,0.550682905982906,0.7799623931623931,0.7087776190476189,0.5515572649572649,0.5743470085470085,0.7418713675213674,0.8216119658119657,0.8072929411764705,0.5948333333333332,0.6015696581196581,0.45260333333333314,0.7660948717948717,0.49048916666666653,0.6403987179487178,0.7613136363636362,0.40181083333333334,0.611986752136752,0.728575,0.5295337606837607,0.604542361111111,0.7136004273504273,0.7862562499999999,0.7418116666666665,0.71987125,0.5225247863247863,0.6072679166666666,0.6953318181818182,0.5728333333333333,0.39578080357142853,0.7316564102564103,0.5893195833333333,0.6247730769230768,0.7063045833333332,0.6393879166666666,0.6431909090909089,0.4653037499999999,0.7228534722222222,0.8278224999999999,0.6187888888888888,0.6101138392857142,0.5969442857142857,0.8550726495726495,0.26425042735042725,0.5403128205128205,0.6498545454545455,0.4992994791666667,0.664824107142857,0.8305200854700855,0.47149230769230754,0.5532821428571428,0.6189989583333333,0.7484195238095238,0.6994754166666666,0.6747727272727273,0.7003722222222222,0.6539700854700854,0.576671875,0.5863214285714284,0.6070636363636364,0.7965641666666666,0.49951473214285713,0.6423166666666666,0.6141585470085468,0.5754687499999999,0.6405252380952381,0.5821374999999999,0.5962633333333333,0.7027204166666666,0.755883482142857,0.5260623809523809,0.6111547008547008,0.6901055555555555,0.7242614285714286,0.7134954545454546,0.6170232142857142,0.6853541666666667,0.5321379166666665,0.572840909090909,0.6476104166666667,0.6468885416666666,0.7113233333333333,0.8204994791666668,0.5796690476190476,0.7001400000000001,0.6683170940170939,0.5686232142857144,0.3428508333333332,0.7002866666666667,0.6661041666666666,0.5188652380952381,0.7229571428571429,0.5999941666666666,0.6739181818181819,0.6489965811965812,0.6679374999999999,0.685159375,0.5023017094017093,0.4457787499999999,0.5907165178571427,0.5870957264957264,0.7696462500000001,0.4253299145299143,0.6472437500000002,0.53107094017094,0.5911895833333332,0.5121499999999999,0.22077047619047607,0.6576994791666668,0.5519791666666667,0.6565983333333332,0.6748033333333332,0.5711361904761904,0.5097590277777777,0.6951585714285713,0.7050441666666667,0.4770599999999997,0.5283429166666667,0.6291258333333332,0.7293607142857143,0.41351093750000023,0.7040200854700854,0.6889749999999999,0.6103158333333332,0.50706,0.6491942857142856,0.7515558333333332,0.8260964705882352,0.6694454545454546,0.4925145299145297,0.501425,0.46637777777777756,0.5648033333333333,0.6312555555555555,0.4853420833333333,0.5218102564102562,0.543659829059829,0.5893897435897435,0.3620711764705884,0.7258790178571428,0.6412272727272728,0.5284977678571425,0.36112,0.8828499999999999,0.6370545454545453,0.5904516666666666,0.6318208333333333,0.6565765625000001,0.6123863636363638,0.6084047008547007,0.6353590909090909,0.6424947619047618,0.6540270833333331,0.5442022321428571,0.6313871794871795,0.6896909090909091,0.6104213675213674,0.6594465811965811,0.6931589285714286,0.6634916666666666,0.7092521367521367,0.6544307692307691,0.5098841880341878,0.7552238095238096],\"y0\":\" \",\"yaxis\":\"y\",\"type\":\"box\"}],                        {\"template\":{\"data\":{\"bar\":[{\"error_x\":{\"color\":\"#2a3f5f\"},\"error_y\":{\"color\":\"#2a3f5f\"},\"marker\":{\"line\":{\"color\":\"#E5ECF6\",\"width\":0.5},\"pattern\":{\"fillmode\":\"overlay\",\"size\":10,\"solidity\":0.2}},\"type\":\"bar\"}],\"barpolar\":[{\"marker\":{\"line\":{\"color\":\"#E5ECF6\",\"width\":0.5},\"pattern\":{\"fillmode\":\"overlay\",\"size\":10,\"solidity\":0.2}},\"type\":\"barpolar\"}],\"carpet\":[{\"aaxis\":{\"endlinecolor\":\"#2a3f5f\",\"gridcolor\":\"white\",\"linecolor\":\"white\",\"minorgridcolor\":\"white\",\"startlinecolor\":\"#2a3f5f\"},\"baxis\":{\"endlinecolor\":\"#2a3f5f\",\"gridcolor\":\"white\",\"linecolor\":\"white\",\"minorgridcolor\":\"white\",\"startlinecolor\":\"#2a3f5f\"},\"type\":\"carpet\"}],\"choropleth\":[{\"colorbar\":{\"outlinewidth\":0,\"ticks\":\"\"},\"type\":\"choropleth\"}],\"contour\":[{\"colorbar\":{\"outlinewidth\":0,\"ticks\":\"\"},\"colorscale\":[[0.0,\"#0d0887\"],[0.1111111111111111,\"#46039f\"],[0.2222222222222222,\"#7201a8\"],[0.3333333333333333,\"#9c179e\"],[0.4444444444444444,\"#bd3786\"],[0.5555555555555556,\"#d8576b\"],[0.6666666666666666,\"#ed7953\"],[0.7777777777777778,\"#fb9f3a\"],[0.8888888888888888,\"#fdca26\"],[1.0,\"#f0f921\"]],\"type\":\"contour\"}],\"contourcarpet\":[{\"colorbar\":{\"outlinewidth\":0,\"ticks\":\"\"},\"type\":\"contourcarpet\"}],\"heatmap\":[{\"colorbar\":{\"outlinewidth\":0,\"ticks\":\"\"},\"colorscale\":[[0.0,\"#0d0887\"],[0.1111111111111111,\"#46039f\"],[0.2222222222222222,\"#7201a8\"],[0.3333333333333333,\"#9c179e\"],[0.4444444444444444,\"#bd3786\"],[0.5555555555555556,\"#d8576b\"],[0.6666666666666666,\"#ed7953\"],[0.7777777777777778,\"#fb9f3a\"],[0.8888888888888888,\"#fdca26\"],[1.0,\"#f0f921\"]],\"type\":\"heatmap\"}],\"heatmapgl\":[{\"colorbar\":{\"outlinewidth\":0,\"ticks\":\"\"},\"colorscale\":[[0.0,\"#0d0887\"],[0.1111111111111111,\"#46039f\"],[0.2222222222222222,\"#7201a8\"],[0.3333333333333333,\"#9c179e\"],[0.4444444444444444,\"#bd3786\"],[0.5555555555555556,\"#d8576b\"],[0.6666666666666666,\"#ed7953\"],[0.7777777777777778,\"#fb9f3a\"],[0.8888888888888888,\"#fdca26\"],[1.0,\"#f0f921\"]],\"type\":\"heatmapgl\"}],\"histogram\":[{\"marker\":{\"pattern\":{\"fillmode\":\"overlay\",\"size\":10,\"solidity\":0.2}},\"type\":\"histogram\"}],\"histogram2d\":[{\"colorbar\":{\"outlinewidth\":0,\"ticks\":\"\"},\"colorscale\":[[0.0,\"#0d0887\"],[0.1111111111111111,\"#46039f\"],[0.2222222222222222,\"#7201a8\"],[0.3333333333333333,\"#9c179e\"],[0.4444444444444444,\"#bd3786\"],[0.5555555555555556,\"#d8576b\"],[0.6666666666666666,\"#ed7953\"],[0.7777777777777778,\"#fb9f3a\"],[0.8888888888888888,\"#fdca26\"],[1.0,\"#f0f921\"]],\"type\":\"histogram2d\"}],\"histogram2dcontour\":[{\"colorbar\":{\"outlinewidth\":0,\"ticks\":\"\"},\"colorscale\":[[0.0,\"#0d0887\"],[0.1111111111111111,\"#46039f\"],[0.2222222222222222,\"#7201a8\"],[0.3333333333333333,\"#9c179e\"],[0.4444444444444444,\"#bd3786\"],[0.5555555555555556,\"#d8576b\"],[0.6666666666666666,\"#ed7953\"],[0.7777777777777778,\"#fb9f3a\"],[0.8888888888888888,\"#fdca26\"],[1.0,\"#f0f921\"]],\"type\":\"histogram2dcontour\"}],\"mesh3d\":[{\"colorbar\":{\"outlinewidth\":0,\"ticks\":\"\"},\"type\":\"mesh3d\"}],\"parcoords\":[{\"line\":{\"colorbar\":{\"outlinewidth\":0,\"ticks\":\"\"}},\"type\":\"parcoords\"}],\"pie\":[{\"automargin\":true,\"type\":\"pie\"}],\"scatter\":[{\"marker\":{\"colorbar\":{\"outlinewidth\":0,\"ticks\":\"\"}},\"type\":\"scatter\"}],\"scatter3d\":[{\"line\":{\"colorbar\":{\"outlinewidth\":0,\"ticks\":\"\"}},\"marker\":{\"colorbar\":{\"outlinewidth\":0,\"ticks\":\"\"}},\"type\":\"scatter3d\"}],\"scattercarpet\":[{\"marker\":{\"colorbar\":{\"outlinewidth\":0,\"ticks\":\"\"}},\"type\":\"scattercarpet\"}],\"scattergeo\":[{\"marker\":{\"colorbar\":{\"outlinewidth\":0,\"ticks\":\"\"}},\"type\":\"scattergeo\"}],\"scattergl\":[{\"marker\":{\"colorbar\":{\"outlinewidth\":0,\"ticks\":\"\"}},\"type\":\"scattergl\"}],\"scattermapbox\":[{\"marker\":{\"colorbar\":{\"outlinewidth\":0,\"ticks\":\"\"}},\"type\":\"scattermapbox\"}],\"scatterpolar\":[{\"marker\":{\"colorbar\":{\"outlinewidth\":0,\"ticks\":\"\"}},\"type\":\"scatterpolar\"}],\"scatterpolargl\":[{\"marker\":{\"colorbar\":{\"outlinewidth\":0,\"ticks\":\"\"}},\"type\":\"scatterpolargl\"}],\"scatterternary\":[{\"marker\":{\"colorbar\":{\"outlinewidth\":0,\"ticks\":\"\"}},\"type\":\"scatterternary\"}],\"surface\":[{\"colorbar\":{\"outlinewidth\":0,\"ticks\":\"\"},\"colorscale\":[[0.0,\"#0d0887\"],[0.1111111111111111,\"#46039f\"],[0.2222222222222222,\"#7201a8\"],[0.3333333333333333,\"#9c179e\"],[0.4444444444444444,\"#bd3786\"],[0.5555555555555556,\"#d8576b\"],[0.6666666666666666,\"#ed7953\"],[0.7777777777777778,\"#fb9f3a\"],[0.8888888888888888,\"#fdca26\"],[1.0,\"#f0f921\"]],\"type\":\"surface\"}],\"table\":[{\"cells\":{\"fill\":{\"color\":\"#EBF0F8\"},\"line\":{\"color\":\"white\"}},\"header\":{\"fill\":{\"color\":\"#C8D4E3\"},\"line\":{\"color\":\"white\"}},\"type\":\"table\"}]},\"layout\":{\"annotationdefaults\":{\"arrowcolor\":\"#2a3f5f\",\"arrowhead\":0,\"arrowwidth\":1},\"autotypenumbers\":\"strict\",\"coloraxis\":{\"colorbar\":{\"outlinewidth\":0,\"ticks\":\"\"}},\"colorscale\":{\"diverging\":[[0,\"#8e0152\"],[0.1,\"#c51b7d\"],[0.2,\"#de77ae\"],[0.3,\"#f1b6da\"],[0.4,\"#fde0ef\"],[0.5,\"#f7f7f7\"],[0.6,\"#e6f5d0\"],[0.7,\"#b8e186\"],[0.8,\"#7fbc41\"],[0.9,\"#4d9221\"],[1,\"#276419\"]],\"sequential\":[[0.0,\"#0d0887\"],[0.1111111111111111,\"#46039f\"],[0.2222222222222222,\"#7201a8\"],[0.3333333333333333,\"#9c179e\"],[0.4444444444444444,\"#bd3786\"],[0.5555555555555556,\"#d8576b\"],[0.6666666666666666,\"#ed7953\"],[0.7777777777777778,\"#fb9f3a\"],[0.8888888888888888,\"#fdca26\"],[1.0,\"#f0f921\"]],\"sequentialminus\":[[0.0,\"#0d0887\"],[0.1111111111111111,\"#46039f\"],[0.2222222222222222,\"#7201a8\"],[0.3333333333333333,\"#9c179e\"],[0.4444444444444444,\"#bd3786\"],[0.5555555555555556,\"#d8576b\"],[0.6666666666666666,\"#ed7953\"],[0.7777777777777778,\"#fb9f3a\"],[0.8888888888888888,\"#fdca26\"],[1.0,\"#f0f921\"]]},\"colorway\":[\"#636efa\",\"#EF553B\",\"#00cc96\",\"#ab63fa\",\"#FFA15A\",\"#19d3f3\",\"#FF6692\",\"#B6E880\",\"#FF97FF\",\"#FECB52\"],\"font\":{\"color\":\"#2a3f5f\"},\"geo\":{\"bgcolor\":\"white\",\"lakecolor\":\"white\",\"landcolor\":\"#E5ECF6\",\"showlakes\":true,\"showland\":true,\"subunitcolor\":\"white\"},\"hoverlabel\":{\"align\":\"left\"},\"hovermode\":\"closest\",\"mapbox\":{\"style\":\"light\"},\"paper_bgcolor\":\"white\",\"plot_bgcolor\":\"#E5ECF6\",\"polar\":{\"angularaxis\":{\"gridcolor\":\"white\",\"linecolor\":\"white\",\"ticks\":\"\"},\"bgcolor\":\"#E5ECF6\",\"radialaxis\":{\"gridcolor\":\"white\",\"linecolor\":\"white\",\"ticks\":\"\"}},\"scene\":{\"xaxis\":{\"backgroundcolor\":\"#E5ECF6\",\"gridcolor\":\"white\",\"gridwidth\":2,\"linecolor\":\"white\",\"showbackground\":true,\"ticks\":\"\",\"zerolinecolor\":\"white\"},\"yaxis\":{\"backgroundcolor\":\"#E5ECF6\",\"gridcolor\":\"white\",\"gridwidth\":2,\"linecolor\":\"white\",\"showbackground\":true,\"ticks\":\"\",\"zerolinecolor\":\"white\"},\"zaxis\":{\"backgroundcolor\":\"#E5ECF6\",\"gridcolor\":\"white\",\"gridwidth\":2,\"linecolor\":\"white\",\"showbackground\":true,\"ticks\":\"\",\"zerolinecolor\":\"white\"}},\"shapedefaults\":{\"line\":{\"color\":\"#2a3f5f\"}},\"ternary\":{\"aaxis\":{\"gridcolor\":\"white\",\"linecolor\":\"white\",\"ticks\":\"\"},\"baxis\":{\"gridcolor\":\"white\",\"linecolor\":\"white\",\"ticks\":\"\"},\"bgcolor\":\"#E5ECF6\",\"caxis\":{\"gridcolor\":\"white\",\"linecolor\":\"white\",\"ticks\":\"\"}},\"title\":{\"x\":0.05},\"xaxis\":{\"automargin\":true,\"gridcolor\":\"white\",\"linecolor\":\"white\",\"ticks\":\"\",\"title\":{\"standoff\":15},\"zerolinecolor\":\"white\",\"zerolinewidth\":2},\"yaxis\":{\"automargin\":true,\"gridcolor\":\"white\",\"linecolor\":\"white\",\"ticks\":\"\",\"title\":{\"standoff\":15},\"zerolinecolor\":\"white\",\"zerolinewidth\":2}}},\"xaxis\":{\"anchor\":\"y\",\"domain\":[0.0,1.0],\"title\":{\"text\":\"sector\"}},\"yaxis\":{\"anchor\":\"x\",\"domain\":[0.0,1.0],\"title\":{\"text\":\"score\"}},\"legend\":{\"tracegroupgap\":0},\"margin\":{\"t\":60},\"boxmode\":\"group\"},                        {\"responsive\": true}                    ).then(function(){\n",
       "                            \n",
       "var gd = document.getElementById('ceae3524-e11a-4983-9c07-862634407d12');\n",
       "var x = new MutationObserver(function (mutations, observer) {{\n",
       "        var display = window.getComputedStyle(gd).display;\n",
       "        if (!display || display === 'none') {{\n",
       "            console.log([gd, 'removed!']);\n",
       "            Plotly.purge(gd);\n",
       "            observer.disconnect();\n",
       "        }}\n",
       "}});\n",
       "\n",
       "// Listen for the removal of the full notebook cells\n",
       "var notebookContainer = gd.closest('#notebook-container');\n",
       "if (notebookContainer) {{\n",
       "    x.observe(notebookContainer, {childList: true});\n",
       "}}\n",
       "\n",
       "// Listen for the clearing of the current output cell\n",
       "var outputEl = gd.closest('.output');\n",
       "if (outputEl) {{\n",
       "    x.observe(outputEl, {childList: true});\n",
       "}}\n",
       "\n",
       "                        })                };                });            </script>        </div>"
      ]
     },
     "metadata": {},
     "output_type": "display_data"
    }
   ],
   "source": [
    "# Box Plot of scores by sector\n",
    "fig = px.box(score_df, y=\"score\", x=\"sector\", points='all')\n",
    "fig.show()"
   ]
  },
  {
   "cell_type": "code",
   "execution_count": 55,
   "id": "28a03a62",
   "metadata": {},
   "outputs": [
    {
     "data": {
      "application/vnd.plotly.v1+json": {
       "config": {
        "plotlyServerURL": "https://plot.ly"
       },
       "data": [
        {
         "alignmentgroup": "True",
         "hovertemplate": "state=%{x}<br>score=%{y}<extra></extra>",
         "legendgroup": "",
         "marker": {
          "color": "#636efa"
         },
         "name": "",
         "notched": false,
         "offsetgroup": "",
         "orientation": "v",
         "showlegend": false,
         "type": "box",
         "x": [
          "AL",
          "AL",
          "AL",
          "AL",
          "AL",
          "AL",
          "AL",
          "AL",
          "AL",
          "AL",
          "AL",
          "AL",
          "AK",
          "AK",
          "AK",
          "AK",
          "AK",
          "AK",
          "AK",
          "AK",
          "AK",
          "AK",
          "AK",
          "AK",
          "AZ",
          "AZ",
          "AZ",
          "AZ",
          "AZ",
          "AZ",
          "AZ",
          "AZ",
          "AZ",
          "AZ",
          "AZ",
          "AR",
          "AR",
          "AR",
          "AR",
          "AR",
          "AR",
          "AR",
          "AR",
          "AR",
          "AR",
          "AR",
          "CA",
          "CA",
          "CA",
          "CA",
          "CA",
          "CA",
          "CA",
          "CA",
          "CA",
          "CA",
          "CA",
          "CA",
          "CO",
          "CO",
          "CO",
          "CO",
          "CO",
          "CO",
          "CO",
          "CO",
          "CO",
          "CO",
          "CO",
          "CT",
          "CT",
          "CT",
          "CT",
          "CT",
          "CT",
          "CT",
          "CT",
          "CT",
          "CT",
          "DE",
          "DE",
          "DE",
          "DE",
          "DE",
          "DE",
          "DE",
          "DE",
          "DE",
          "DE",
          "DC",
          "DC",
          "DC",
          "DC",
          "DC",
          "DC",
          "DC",
          "DC",
          "DC",
          "FL",
          "FL",
          "FL",
          "FL",
          "FL",
          "FL",
          "FL",
          "FL",
          "FL",
          "FL",
          "FL",
          "FL",
          "GA",
          "GA",
          "GA",
          "GA",
          "GA",
          "GA",
          "GA",
          "GA",
          "GA",
          "GA",
          "GA",
          "HI",
          "HI",
          "HI",
          "HI",
          "HI",
          "HI",
          "HI",
          "HI",
          "HI",
          "HI",
          "HI",
          "ID",
          "ID",
          "ID",
          "ID",
          "ID",
          "ID",
          "ID",
          "ID",
          "ID",
          "ID",
          "IL",
          "IL",
          "IL",
          "IL",
          "IL",
          "IL",
          "IL",
          "IL",
          "IL",
          "IL",
          "IL",
          "IN",
          "IN",
          "IN",
          "IN",
          "IN",
          "IN",
          "IN",
          "IN",
          "IN",
          "IN",
          "IN",
          "IA",
          "IA",
          "IA",
          "IA",
          "IA",
          "IA",
          "IA",
          "IA",
          "IA",
          "IA",
          "KS",
          "KS",
          "KS",
          "KS",
          "KS",
          "KS",
          "KS",
          "KS",
          "KS",
          "KS",
          "KS",
          "KY",
          "KY",
          "KY",
          "KY",
          "KY",
          "KY",
          "KY",
          "KY",
          "KY",
          "KY",
          "KY",
          "LA",
          "LA",
          "LA",
          "LA",
          "LA",
          "LA",
          "LA",
          "LA",
          "LA",
          "LA",
          "LA",
          "LA",
          "ME",
          "ME",
          "ME",
          "ME",
          "ME",
          "ME",
          "ME",
          "ME",
          "ME",
          "ME",
          "ME",
          "MD",
          "MD",
          "MD",
          "MD",
          "MD",
          "MD",
          "MD",
          "MD",
          "MD",
          "MD",
          "MD",
          "MD",
          "MA",
          "MA",
          "MA",
          "MA",
          "MA",
          "MA",
          "MA",
          "MA",
          "MA",
          "MA",
          "MA",
          "MI",
          "MI",
          "MI",
          "MI",
          "MI",
          "MI",
          "MI",
          "MI",
          "MI",
          "MI",
          "MI",
          "MI",
          "MN",
          "MN",
          "MN",
          "MN",
          "MN",
          "MN",
          "MN",
          "MN",
          "MN",
          "MN",
          "MN",
          "MS",
          "MS",
          "MS",
          "MS",
          "MS",
          "MS",
          "MS",
          "MS",
          "MS",
          "MS",
          "MS",
          "MO",
          "MO",
          "MO",
          "MO",
          "MO",
          "MO",
          "MO",
          "MO",
          "MO",
          "MO",
          "MO",
          "MT",
          "MT",
          "MT",
          "MT",
          "MT",
          "MT",
          "MT",
          "MT",
          "MT",
          "MT",
          "MT",
          "NE",
          "NE",
          "NE",
          "NE",
          "NE",
          "NE",
          "NE",
          "NE",
          "NE",
          "NE",
          "NE",
          "NV",
          "NV",
          "NV",
          "NV",
          "NV",
          "NV",
          "NV",
          "NV",
          "NV",
          "NV",
          "NV",
          "NH",
          "NH",
          "NH",
          "NH",
          "NH",
          "NH",
          "NH",
          "NH",
          "NH",
          "NH",
          "NJ",
          "NJ",
          "NJ",
          "NJ",
          "NJ",
          "NJ",
          "NJ",
          "NJ",
          "NJ",
          "NJ",
          "NM",
          "NM",
          "NM",
          "NM",
          "NM",
          "NM",
          "NM",
          "NM",
          "NM",
          "NM",
          "NM",
          "NY",
          "NY",
          "NY",
          "NY",
          "NY",
          "NY",
          "NY",
          "NY",
          "NY",
          "NY",
          "NY",
          "NY",
          "NC",
          "NC",
          "NC",
          "NC",
          "NC",
          "NC",
          "NC",
          "NC",
          "NC",
          "NC",
          "NC",
          "ND",
          "ND",
          "ND",
          "ND",
          "ND",
          "ND",
          "ND",
          "ND",
          "ND",
          "ND",
          "ND",
          "OH",
          "OH",
          "OH",
          "OH",
          "OH",
          "OH",
          "OH",
          "OH",
          "OH",
          "OH",
          "OH",
          "OH",
          "OK",
          "OK",
          "OK",
          "OK",
          "OK",
          "OK",
          "OK",
          "OK",
          "OK",
          "OK",
          "OK",
          "OR",
          "OR",
          "OR",
          "OR",
          "OR",
          "OR",
          "OR",
          "OR",
          "OR",
          "OR",
          "OR",
          "OR",
          "PA",
          "PA",
          "PA",
          "PA",
          "PA",
          "PA",
          "PA",
          "PA",
          "PA",
          "PA",
          "PA",
          "PA",
          "RI",
          "RI",
          "RI",
          "RI",
          "RI",
          "RI",
          "RI",
          "RI",
          "RI",
          "RI",
          "SC",
          "SC",
          "SC",
          "SC",
          "SC",
          "SC",
          "SC",
          "SC",
          "SC",
          "SC",
          "SC",
          "SD",
          "SD",
          "SD",
          "SD",
          "SD",
          "SD",
          "SD",
          "SD",
          "SD",
          "SD",
          "SD",
          "TN",
          "TN",
          "TN",
          "TN",
          "TN",
          "TN",
          "TN",
          "TN",
          "TN",
          "TN",
          "TN",
          "TX",
          "TX",
          "TX",
          "TX",
          "TX",
          "TX",
          "TX",
          "TX",
          "TX",
          "TX",
          "TX",
          "TX",
          "UT",
          "UT",
          "UT",
          "UT",
          "UT",
          "UT",
          "UT",
          "UT",
          "UT",
          "UT",
          "UT",
          "VT",
          "VT",
          "VT",
          "VT",
          "VT",
          "VT",
          "VT",
          "VT",
          "VT",
          "VT",
          "VA",
          "VA",
          "VA",
          "VA",
          "VA",
          "VA",
          "VA",
          "VA",
          "VA",
          "VA",
          "VA",
          "VA",
          "WA",
          "WA",
          "WA",
          "WA",
          "WA",
          "WA",
          "WA",
          "WA",
          "WA",
          "WA",
          "WA",
          "WA",
          "WV",
          "WV",
          "WV",
          "WV",
          "WV",
          "WV",
          "WV",
          "WV",
          "WV",
          "WV",
          "WV",
          "WI",
          "WI",
          "WI",
          "WI",
          "WI",
          "WI",
          "WI",
          "WI",
          "WI",
          "WI",
          "WI",
          "WY",
          "WY",
          "WY",
          "WY",
          "WY",
          "WY",
          "WY",
          "WY",
          "WY",
          "WY",
          "WY"
         ],
         "x0": " ",
         "xaxis": "x",
         "y": [
          0.6052551282051282,
          0.7136611607142856,
          0.5599908333333334,
          0.5928818181818182,
          0.469340909090909,
          0.6274235294117645,
          0.46721499999999994,
          0.5287064102564101,
          0.2724914285714286,
          0.5706385714285716,
          0.8131409090909091,
          0.7830179487179486,
          0.7385388392857142,
          0.040146666666666664,
          0.5789303418803418,
          0.5525291666666666,
          0.6374700854700854,
          0.6342885964912282,
          0.7235004273504273,
          0.4753183333333332,
          0.811880357142857,
          0.5057239316239316,
          0.6363675,
          0.5116916666666667,
          0.47285085470085464,
          0.76438,
          0.7337495833333333,
          0.7592410256410256,
          0.32835000000000014,
          0.4565255208333333,
          0.5689099999999999,
          0.86295,
          0.5763307692307691,
          0.711161607142857,
          0.3359614285714285,
          0.6693045454545454,
          0.45339401709401705,
          0.6278490476190476,
          0.7617559829059829,
          0.71224,
          0.4909199999999999,
          0.43030803571428566,
          0.590642857142857,
          0.4353808035714285,
          0.45600416666666643,
          0.18858794642857113,
          0.5116141025641023,
          0.5473552380952382,
          0.7557901785714286,
          0.6454136363636364,
          0.6342782051282051,
          0.6194687499999998,
          0.8123728070175438,
          0.510892857142857,
          0.5597696581196581,
          0.7664239316239315,
          0.4862435897435897,
          0.4934254464285712,
          0.5106227272727271,
          0.6004295833333333,
          0.6885727272727273,
          0.7533045454545455,
          0.6583181818181818,
          0.49915705882352956,
          0.5576330357142857,
          0.7020045454545454,
          0.5106237499999999,
          0.5209876068376067,
          0.32644411764705883,
          0.4899772727272729,
          0.6379762499999999,
          0.48134476190476183,
          0.6367884615384614,
          0.6395142857142857,
          0.4273230769230767,
          0.6705118055555555,
          0.584118181818182,
          0.449539316239316,
          0.5407641025641026,
          0.5369641666666666,
          0.4434412499999999,
          0.5965848214285714,
          0.6124499999999999,
          0.6979976190476191,
          0.767075,
          0.7418928571428571,
          0.5066133333333332,
          0.68816375,
          0.5963045833333334,
          0.7788770833333333,
          0.6915916666666666,
          0.5688962499999999,
          0.40465000000000007,
          0.7769021367521367,
          0.5652570833333332,
          0.57062875,
          0.48762564102564077,
          0.7231055555555554,
          0.631452857142857,
          0.40850446428571396,
          0.5549700854700854,
          0.5811383333333333,
          0.60456375,
          0.7832724999999999,
          0.516048245614035,
          0.38483636363636353,
          0.4547574999999998,
          0.6729241666666667,
          0.7237119658119657,
          0.7004929166666667,
          0.6858124999999999,
          0.7678207692307693,
          0.7998772727272727,
          0.7611808333333333,
          0.7260404166666665,
          0.48835486111111104,
          0.678278205128205,
          0.8239358333333333,
          0.5749205128205126,
          0.6076483333333332,
          0.5035654166666665,
          0.7682529166666666,
          0.5272421875000002,
          0.47561919642857153,
          0.6025562499999999,
          0.733505357142857,
          0.7210136752136751,
          0.6317841666666666,
          0.8473520833333332,
          0.7264901709401708,
          0.8266468750000001,
          0.6873735294117647,
          0.6766000000000001,
          0.5116183333333333,
          0.8086282051282051,
          0.50930375,
          0.5711045454545456,
          0.6426522321428572,
          0.3678181818181818,
          0.5850845833333331,
          0.6012133333333334,
          0.6491687499999999,
          0.1964136363636363,
          0.704890909090909,
          0.597675,
          0.6542272727272727,
          0.6183320833333331,
          0.6197149572649572,
          0.7848223214285714,
          0.6164681818181819,
          0.6703254166666666,
          0.7799482905982905,
          0.75795875,
          0.5901590909090908,
          0.650578125,
          0.6449136363636363,
          0.647708547008547,
          0.5922142857142858,
          0.5532395833333331,
          0.6733883928571427,
          0.9150891666666666,
          0.5211756410256408,
          0.7306181818181818,
          0.5019961538461537,
          0.6644764957264957,
          0.44597136752136757,
          0.5632764957264956,
          0.6237803571428571,
          0.5990735042735043,
          0.6976031249999998,
          0.4585499999999999,
          0.5834478632478631,
          0.65752875,
          0.5845431623931623,
          0.42374102564102545,
          0.4547102564102562,
          0.8224809523809524,
          0.7067747863247862,
          0.8082883333333333,
          0.5927200892857143,
          0.8073119658119658,
          0.3416594017094017,
          0.34650454545454545,
          0.650486752136752,
          0.5837966666666665,
          0.7111308333333333,
          0.5279272727272728,
          0.7079041666666666,
          0.6261833333333333,
          0.5094517094017094,
          0.6424214285714287,
          0.6282,
          0.5838071428571427,
          0.39426666666666643,
          0.5537633928571428,
          0.685782380952381,
          0.7367239316239316,
          0.5812819444444443,
          0.5117915178571427,
          0.7325454545454546,
          0.5804004166666666,
          0.6400171428571427,
          0.5312395833333332,
          0.6850333333333332,
          0.6942412499999998,
          0.6574809523809524,
          0.6197431623931623,
          0.5056722222222221,
          0.6075848214285713,
          0.5332568376068374,
          0.5965016666666666,
          0.7127723214285713,
          0.7419959821428571,
          0.8209090909090909,
          0.5427609375,
          0.8158187499999999,
          0.679994017094017,
          0.42839487179487157,
          0.5309547619047619,
          0.6018636363636363,
          0.5577733333333332,
          0.6051834821428571,
          0.48294958333333315,
          0.5168179487179486,
          0.5485966666666666,
          0.7695041666666667,
          0.5718173611111109,
          0.78199375,
          0.6167272727272728,
          0.5148909090909092,
          0.5666392857142856,
          0.5885484374999999,
          0.6844497596153847,
          0.7893547008547008,
          0.5665950892857142,
          0.4565999999999999,
          0.5079975,
          0.49151517857142846,
          0.4538347222222221,
          0.556159090909091,
          0.5597772727272727,
          0.49197875,
          0.7726529166666666,
          0.70129,
          0.7469636363636363,
          0.7814290178571429,
          0.6991264957264955,
          0.7603818181818182,
          0.4658419642857141,
          0.7102966666666666,
          0.5721752136752135,
          0.6403091666666667,
          0.61548125,
          0.7743918803418803,
          0.8593054166666666,
          0.3057480952380952,
          0.6522363636363635,
          0.7894547619047619,
          0.5979820833333334,
          0.3319247058823531,
          0.5578329059829059,
          0.478920833333333,
          0.6914454545454545,
          0.5891090909090909,
          0.70455375,
          0.6614704166666666,
          0.4659303571428569,
          0.6237153846153844,
          0.7241820512820512,
          0.5940633333333332,
          0.7430888888888889,
          0.6850850427350426,
          0.22855133928571436,
          0.6308183760683759,
          0.6656779166666665,
          0.7584812499999999,
          0.6437551282051281,
          0.6618875,
          0.6986136363636364,
          0.6757545454545455,
          0.7484500000000001,
          0.6675433333333333,
          0.6288554166666667,
          0.7034,
          0.7410863247863247,
          0.46077727272727276,
          0.793867857142857,
          0.42400000000000015,
          0.6450830357142854,
          0.7937727272727273,
          0.6914688034188035,
          0.6763818181818182,
          0.7232411458333334,
          0.5151303418803417,
          0.8557683760683761,
          0.561292735042735,
          0.8411757142857142,
          0.828529411764706,
          0.61995,
          0.5814636363636363,
          0.5667237499999999,
          0.7647970833333333,
          0.5901026785714285,
          0.6412258333333334,
          0.46089658119658117,
          0.68665,
          0.4386542857142859,
          0.5146888392857142,
          0.7282952991452991,
          0.526065,
          0.6898,
          0.706619658119658,
          0.5106420833333334,
          0.4722062499999997,
          0.4212552631578944,
          0.6662829166666666,
          0.6479454545454545,
          0.7664635294117648,
          0.8324542857142857,
          0.5049465277777778,
          0.55965,
          0.4871409090909089,
          0.7290857142857142,
          0.4999861607142856,
          0.7838912499999999,
          0.7161811965811965,
          0.711586111111111,
          0.7203295833333332,
          0.6665533333333333,
          0.7794080952380953,
          0.6121181818181818,
          0.6306658333333333,
          0.5802727272727273,
          0.7429987499999999,
          0.5604852941176471,
          0.6088223214285713,
          0.8191285714285713,
          0.5193785714285716,
          0.4360208333333334,
          0.6805089285714283,
          0.7228870833333333,
          0.5104954166666666,
          0.6769025,
          0.4174675,
          0.6936058035714285,
          0.5508161458333334,
          0.45789708333333334,
          0.5087491666666666,
          0.3324454545454544,
          0.6074879166666666,
          0.6475017647058825,
          0.5196265625,
          0.6773897435897436,
          0.5002727272727272,
          0.3761260683760681,
          0.576039316239316,
          0.7527681818181817,
          0.8062456140350878,
          0.7099055555555556,
          0.685757264957265,
          0.4818724999999998,
          0.65277125,
          0.5828014285714285,
          0.32704545454545453,
          0.7414143382352942,
          0.4934735042735041,
          0.44964642857142845,
          0.5662516666666664,
          0.7597947368421052,
          0.5233120535714286,
          0.5604033333333331,
          0.7526361904761905,
          0.7482316239316239,
          0.7428590909090909,
          0.6669700892857142,
          0.623305,
          0.5346129166666667,
          0.4671678571428569,
          0.7970604761904762,
          0.4997566666666664,
          0.5973312500000001,
          0.8065272727272728,
          0.589690909090909,
          0.8313379166666667,
          0.7064756944444444,
          0.47427791666666663,
          0.34886666666666677,
          0.5703537500000001,
          0.6566379464285714,
          0.5279354700854699,
          0.5865204761904762,
          0.6247181818181818,
          0.6031749999999999,
          0.6532181818181817,
          0.51972625,
          0.6118954545454546,
          0.49812499999999993,
          0.42111324786324766,
          0.862791452991453,
          0.6154223214285715,
          0.7560227272727273,
          0.7791455357142858,
          0.550682905982906,
          0.7799623931623931,
          0.7087776190476189,
          0.5515572649572649,
          0.5743470085470085,
          0.7418713675213674,
          0.8216119658119657,
          0.8072929411764705,
          0.5948333333333332,
          0.6015696581196581,
          0.45260333333333314,
          0.7660948717948717,
          0.49048916666666653,
          0.6403987179487178,
          0.7613136363636362,
          0.40181083333333334,
          0.611986752136752,
          0.728575,
          0.5295337606837607,
          0.604542361111111,
          0.7136004273504273,
          0.7862562499999999,
          0.7418116666666665,
          0.71987125,
          0.5225247863247863,
          0.6072679166666666,
          0.6953318181818182,
          0.5728333333333333,
          0.39578080357142853,
          0.7316564102564103,
          0.5893195833333333,
          0.6247730769230768,
          0.7063045833333332,
          0.6393879166666666,
          0.6431909090909089,
          0.4653037499999999,
          0.7228534722222222,
          0.8278224999999999,
          0.6187888888888888,
          0.6101138392857142,
          0.5969442857142857,
          0.8550726495726495,
          0.26425042735042725,
          0.5403128205128205,
          0.6498545454545455,
          0.4992994791666667,
          0.664824107142857,
          0.8305200854700855,
          0.47149230769230754,
          0.5532821428571428,
          0.6189989583333333,
          0.7484195238095238,
          0.6994754166666666,
          0.6747727272727273,
          0.7003722222222222,
          0.6539700854700854,
          0.576671875,
          0.5863214285714284,
          0.6070636363636364,
          0.7965641666666666,
          0.49951473214285713,
          0.6423166666666666,
          0.6141585470085468,
          0.5754687499999999,
          0.6405252380952381,
          0.5821374999999999,
          0.5962633333333333,
          0.7027204166666666,
          0.755883482142857,
          0.5260623809523809,
          0.6111547008547008,
          0.6901055555555555,
          0.7242614285714286,
          0.7134954545454546,
          0.6170232142857142,
          0.6853541666666667,
          0.5321379166666665,
          0.572840909090909,
          0.6476104166666667,
          0.6468885416666666,
          0.7113233333333333,
          0.8204994791666668,
          0.5796690476190476,
          0.7001400000000001,
          0.6683170940170939,
          0.5686232142857144,
          0.3428508333333332,
          0.7002866666666667,
          0.6661041666666666,
          0.5188652380952381,
          0.7229571428571429,
          0.5999941666666666,
          0.6739181818181819,
          0.6489965811965812,
          0.6679374999999999,
          0.685159375,
          0.5023017094017093,
          0.4457787499999999,
          0.5907165178571427,
          0.5870957264957264,
          0.7696462500000001,
          0.4253299145299143,
          0.6472437500000002,
          0.53107094017094,
          0.5911895833333332,
          0.5121499999999999,
          0.22077047619047607,
          0.6576994791666668,
          0.5519791666666667,
          0.6565983333333332,
          0.6748033333333332,
          0.5711361904761904,
          0.5097590277777777,
          0.6951585714285713,
          0.7050441666666667,
          0.4770599999999997,
          0.5283429166666667,
          0.6291258333333332,
          0.7293607142857143,
          0.41351093750000023,
          0.7040200854700854,
          0.6889749999999999,
          0.6103158333333332,
          0.50706,
          0.6491942857142856,
          0.7515558333333332,
          0.8260964705882352,
          0.6694454545454546,
          0.4925145299145297,
          0.501425,
          0.46637777777777756,
          0.5648033333333333,
          0.6312555555555555,
          0.4853420833333333,
          0.5218102564102562,
          0.543659829059829,
          0.5893897435897435,
          0.3620711764705884,
          0.7258790178571428,
          0.6412272727272728,
          0.5284977678571425,
          0.36112,
          0.8828499999999999,
          0.6370545454545453,
          0.5904516666666666,
          0.6318208333333333,
          0.6565765625000001,
          0.6123863636363638,
          0.6084047008547007,
          0.6353590909090909,
          0.6424947619047618,
          0.6540270833333331,
          0.5442022321428571,
          0.6313871794871795,
          0.6896909090909091,
          0.6104213675213674,
          0.6594465811965811,
          0.6931589285714286,
          0.6634916666666666,
          0.7092521367521367,
          0.6544307692307691,
          0.5098841880341878,
          0.7552238095238096
         ],
         "y0": " ",
         "yaxis": "y"
        }
       ],
       "layout": {
        "boxmode": "group",
        "legend": {
         "tracegroupgap": 0
        },
        "margin": {
         "t": 60
        },
        "template": {
         "data": {
          "bar": [
           {
            "error_x": {
             "color": "#2a3f5f"
            },
            "error_y": {
             "color": "#2a3f5f"
            },
            "marker": {
             "line": {
              "color": "#E5ECF6",
              "width": 0.5
             },
             "pattern": {
              "fillmode": "overlay",
              "size": 10,
              "solidity": 0.2
             }
            },
            "type": "bar"
           }
          ],
          "barpolar": [
           {
            "marker": {
             "line": {
              "color": "#E5ECF6",
              "width": 0.5
             },
             "pattern": {
              "fillmode": "overlay",
              "size": 10,
              "solidity": 0.2
             }
            },
            "type": "barpolar"
           }
          ],
          "carpet": [
           {
            "aaxis": {
             "endlinecolor": "#2a3f5f",
             "gridcolor": "white",
             "linecolor": "white",
             "minorgridcolor": "white",
             "startlinecolor": "#2a3f5f"
            },
            "baxis": {
             "endlinecolor": "#2a3f5f",
             "gridcolor": "white",
             "linecolor": "white",
             "minorgridcolor": "white",
             "startlinecolor": "#2a3f5f"
            },
            "type": "carpet"
           }
          ],
          "choropleth": [
           {
            "colorbar": {
             "outlinewidth": 0,
             "ticks": ""
            },
            "type": "choropleth"
           }
          ],
          "contour": [
           {
            "colorbar": {
             "outlinewidth": 0,
             "ticks": ""
            },
            "colorscale": [
             [
              0,
              "#0d0887"
             ],
             [
              0.1111111111111111,
              "#46039f"
             ],
             [
              0.2222222222222222,
              "#7201a8"
             ],
             [
              0.3333333333333333,
              "#9c179e"
             ],
             [
              0.4444444444444444,
              "#bd3786"
             ],
             [
              0.5555555555555556,
              "#d8576b"
             ],
             [
              0.6666666666666666,
              "#ed7953"
             ],
             [
              0.7777777777777778,
              "#fb9f3a"
             ],
             [
              0.8888888888888888,
              "#fdca26"
             ],
             [
              1,
              "#f0f921"
             ]
            ],
            "type": "contour"
           }
          ],
          "contourcarpet": [
           {
            "colorbar": {
             "outlinewidth": 0,
             "ticks": ""
            },
            "type": "contourcarpet"
           }
          ],
          "heatmap": [
           {
            "colorbar": {
             "outlinewidth": 0,
             "ticks": ""
            },
            "colorscale": [
             [
              0,
              "#0d0887"
             ],
             [
              0.1111111111111111,
              "#46039f"
             ],
             [
              0.2222222222222222,
              "#7201a8"
             ],
             [
              0.3333333333333333,
              "#9c179e"
             ],
             [
              0.4444444444444444,
              "#bd3786"
             ],
             [
              0.5555555555555556,
              "#d8576b"
             ],
             [
              0.6666666666666666,
              "#ed7953"
             ],
             [
              0.7777777777777778,
              "#fb9f3a"
             ],
             [
              0.8888888888888888,
              "#fdca26"
             ],
             [
              1,
              "#f0f921"
             ]
            ],
            "type": "heatmap"
           }
          ],
          "heatmapgl": [
           {
            "colorbar": {
             "outlinewidth": 0,
             "ticks": ""
            },
            "colorscale": [
             [
              0,
              "#0d0887"
             ],
             [
              0.1111111111111111,
              "#46039f"
             ],
             [
              0.2222222222222222,
              "#7201a8"
             ],
             [
              0.3333333333333333,
              "#9c179e"
             ],
             [
              0.4444444444444444,
              "#bd3786"
             ],
             [
              0.5555555555555556,
              "#d8576b"
             ],
             [
              0.6666666666666666,
              "#ed7953"
             ],
             [
              0.7777777777777778,
              "#fb9f3a"
             ],
             [
              0.8888888888888888,
              "#fdca26"
             ],
             [
              1,
              "#f0f921"
             ]
            ],
            "type": "heatmapgl"
           }
          ],
          "histogram": [
           {
            "marker": {
             "pattern": {
              "fillmode": "overlay",
              "size": 10,
              "solidity": 0.2
             }
            },
            "type": "histogram"
           }
          ],
          "histogram2d": [
           {
            "colorbar": {
             "outlinewidth": 0,
             "ticks": ""
            },
            "colorscale": [
             [
              0,
              "#0d0887"
             ],
             [
              0.1111111111111111,
              "#46039f"
             ],
             [
              0.2222222222222222,
              "#7201a8"
             ],
             [
              0.3333333333333333,
              "#9c179e"
             ],
             [
              0.4444444444444444,
              "#bd3786"
             ],
             [
              0.5555555555555556,
              "#d8576b"
             ],
             [
              0.6666666666666666,
              "#ed7953"
             ],
             [
              0.7777777777777778,
              "#fb9f3a"
             ],
             [
              0.8888888888888888,
              "#fdca26"
             ],
             [
              1,
              "#f0f921"
             ]
            ],
            "type": "histogram2d"
           }
          ],
          "histogram2dcontour": [
           {
            "colorbar": {
             "outlinewidth": 0,
             "ticks": ""
            },
            "colorscale": [
             [
              0,
              "#0d0887"
             ],
             [
              0.1111111111111111,
              "#46039f"
             ],
             [
              0.2222222222222222,
              "#7201a8"
             ],
             [
              0.3333333333333333,
              "#9c179e"
             ],
             [
              0.4444444444444444,
              "#bd3786"
             ],
             [
              0.5555555555555556,
              "#d8576b"
             ],
             [
              0.6666666666666666,
              "#ed7953"
             ],
             [
              0.7777777777777778,
              "#fb9f3a"
             ],
             [
              0.8888888888888888,
              "#fdca26"
             ],
             [
              1,
              "#f0f921"
             ]
            ],
            "type": "histogram2dcontour"
           }
          ],
          "mesh3d": [
           {
            "colorbar": {
             "outlinewidth": 0,
             "ticks": ""
            },
            "type": "mesh3d"
           }
          ],
          "parcoords": [
           {
            "line": {
             "colorbar": {
              "outlinewidth": 0,
              "ticks": ""
             }
            },
            "type": "parcoords"
           }
          ],
          "pie": [
           {
            "automargin": true,
            "type": "pie"
           }
          ],
          "scatter": [
           {
            "marker": {
             "colorbar": {
              "outlinewidth": 0,
              "ticks": ""
             }
            },
            "type": "scatter"
           }
          ],
          "scatter3d": [
           {
            "line": {
             "colorbar": {
              "outlinewidth": 0,
              "ticks": ""
             }
            },
            "marker": {
             "colorbar": {
              "outlinewidth": 0,
              "ticks": ""
             }
            },
            "type": "scatter3d"
           }
          ],
          "scattercarpet": [
           {
            "marker": {
             "colorbar": {
              "outlinewidth": 0,
              "ticks": ""
             }
            },
            "type": "scattercarpet"
           }
          ],
          "scattergeo": [
           {
            "marker": {
             "colorbar": {
              "outlinewidth": 0,
              "ticks": ""
             }
            },
            "type": "scattergeo"
           }
          ],
          "scattergl": [
           {
            "marker": {
             "colorbar": {
              "outlinewidth": 0,
              "ticks": ""
             }
            },
            "type": "scattergl"
           }
          ],
          "scattermapbox": [
           {
            "marker": {
             "colorbar": {
              "outlinewidth": 0,
              "ticks": ""
             }
            },
            "type": "scattermapbox"
           }
          ],
          "scatterpolar": [
           {
            "marker": {
             "colorbar": {
              "outlinewidth": 0,
              "ticks": ""
             }
            },
            "type": "scatterpolar"
           }
          ],
          "scatterpolargl": [
           {
            "marker": {
             "colorbar": {
              "outlinewidth": 0,
              "ticks": ""
             }
            },
            "type": "scatterpolargl"
           }
          ],
          "scatterternary": [
           {
            "marker": {
             "colorbar": {
              "outlinewidth": 0,
              "ticks": ""
             }
            },
            "type": "scatterternary"
           }
          ],
          "surface": [
           {
            "colorbar": {
             "outlinewidth": 0,
             "ticks": ""
            },
            "colorscale": [
             [
              0,
              "#0d0887"
             ],
             [
              0.1111111111111111,
              "#46039f"
             ],
             [
              0.2222222222222222,
              "#7201a8"
             ],
             [
              0.3333333333333333,
              "#9c179e"
             ],
             [
              0.4444444444444444,
              "#bd3786"
             ],
             [
              0.5555555555555556,
              "#d8576b"
             ],
             [
              0.6666666666666666,
              "#ed7953"
             ],
             [
              0.7777777777777778,
              "#fb9f3a"
             ],
             [
              0.8888888888888888,
              "#fdca26"
             ],
             [
              1,
              "#f0f921"
             ]
            ],
            "type": "surface"
           }
          ],
          "table": [
           {
            "cells": {
             "fill": {
              "color": "#EBF0F8"
             },
             "line": {
              "color": "white"
             }
            },
            "header": {
             "fill": {
              "color": "#C8D4E3"
             },
             "line": {
              "color": "white"
             }
            },
            "type": "table"
           }
          ]
         },
         "layout": {
          "annotationdefaults": {
           "arrowcolor": "#2a3f5f",
           "arrowhead": 0,
           "arrowwidth": 1
          },
          "autotypenumbers": "strict",
          "coloraxis": {
           "colorbar": {
            "outlinewidth": 0,
            "ticks": ""
           }
          },
          "colorscale": {
           "diverging": [
            [
             0,
             "#8e0152"
            ],
            [
             0.1,
             "#c51b7d"
            ],
            [
             0.2,
             "#de77ae"
            ],
            [
             0.3,
             "#f1b6da"
            ],
            [
             0.4,
             "#fde0ef"
            ],
            [
             0.5,
             "#f7f7f7"
            ],
            [
             0.6,
             "#e6f5d0"
            ],
            [
             0.7,
             "#b8e186"
            ],
            [
             0.8,
             "#7fbc41"
            ],
            [
             0.9,
             "#4d9221"
            ],
            [
             1,
             "#276419"
            ]
           ],
           "sequential": [
            [
             0,
             "#0d0887"
            ],
            [
             0.1111111111111111,
             "#46039f"
            ],
            [
             0.2222222222222222,
             "#7201a8"
            ],
            [
             0.3333333333333333,
             "#9c179e"
            ],
            [
             0.4444444444444444,
             "#bd3786"
            ],
            [
             0.5555555555555556,
             "#d8576b"
            ],
            [
             0.6666666666666666,
             "#ed7953"
            ],
            [
             0.7777777777777778,
             "#fb9f3a"
            ],
            [
             0.8888888888888888,
             "#fdca26"
            ],
            [
             1,
             "#f0f921"
            ]
           ],
           "sequentialminus": [
            [
             0,
             "#0d0887"
            ],
            [
             0.1111111111111111,
             "#46039f"
            ],
            [
             0.2222222222222222,
             "#7201a8"
            ],
            [
             0.3333333333333333,
             "#9c179e"
            ],
            [
             0.4444444444444444,
             "#bd3786"
            ],
            [
             0.5555555555555556,
             "#d8576b"
            ],
            [
             0.6666666666666666,
             "#ed7953"
            ],
            [
             0.7777777777777778,
             "#fb9f3a"
            ],
            [
             0.8888888888888888,
             "#fdca26"
            ],
            [
             1,
             "#f0f921"
            ]
           ]
          },
          "colorway": [
           "#636efa",
           "#EF553B",
           "#00cc96",
           "#ab63fa",
           "#FFA15A",
           "#19d3f3",
           "#FF6692",
           "#B6E880",
           "#FF97FF",
           "#FECB52"
          ],
          "font": {
           "color": "#2a3f5f"
          },
          "geo": {
           "bgcolor": "white",
           "lakecolor": "white",
           "landcolor": "#E5ECF6",
           "showlakes": true,
           "showland": true,
           "subunitcolor": "white"
          },
          "hoverlabel": {
           "align": "left"
          },
          "hovermode": "closest",
          "mapbox": {
           "style": "light"
          },
          "paper_bgcolor": "white",
          "plot_bgcolor": "#E5ECF6",
          "polar": {
           "angularaxis": {
            "gridcolor": "white",
            "linecolor": "white",
            "ticks": ""
           },
           "bgcolor": "#E5ECF6",
           "radialaxis": {
            "gridcolor": "white",
            "linecolor": "white",
            "ticks": ""
           }
          },
          "scene": {
           "xaxis": {
            "backgroundcolor": "#E5ECF6",
            "gridcolor": "white",
            "gridwidth": 2,
            "linecolor": "white",
            "showbackground": true,
            "ticks": "",
            "zerolinecolor": "white"
           },
           "yaxis": {
            "backgroundcolor": "#E5ECF6",
            "gridcolor": "white",
            "gridwidth": 2,
            "linecolor": "white",
            "showbackground": true,
            "ticks": "",
            "zerolinecolor": "white"
           },
           "zaxis": {
            "backgroundcolor": "#E5ECF6",
            "gridcolor": "white",
            "gridwidth": 2,
            "linecolor": "white",
            "showbackground": true,
            "ticks": "",
            "zerolinecolor": "white"
           }
          },
          "shapedefaults": {
           "line": {
            "color": "#2a3f5f"
           }
          },
          "ternary": {
           "aaxis": {
            "gridcolor": "white",
            "linecolor": "white",
            "ticks": ""
           },
           "baxis": {
            "gridcolor": "white",
            "linecolor": "white",
            "ticks": ""
           },
           "bgcolor": "#E5ECF6",
           "caxis": {
            "gridcolor": "white",
            "linecolor": "white",
            "ticks": ""
           }
          },
          "title": {
           "x": 0.05
          },
          "xaxis": {
           "automargin": true,
           "gridcolor": "white",
           "linecolor": "white",
           "ticks": "",
           "title": {
            "standoff": 15
           },
           "zerolinecolor": "white",
           "zerolinewidth": 2
          },
          "yaxis": {
           "automargin": true,
           "gridcolor": "white",
           "linecolor": "white",
           "ticks": "",
           "title": {
            "standoff": 15
           },
           "zerolinecolor": "white",
           "zerolinewidth": 2
          }
         }
        },
        "xaxis": {
         "anchor": "y",
         "domain": [
          0,
          1
         ],
         "title": {
          "text": "state"
         }
        },
        "yaxis": {
         "anchor": "x",
         "domain": [
          0,
          1
         ],
         "title": {
          "text": "score"
         }
        }
       }
      },
      "text/html": [
       "<div>                            <div id=\"f1562119-6512-40e5-be96-1107164ee22c\" class=\"plotly-graph-div\" style=\"height:525px; width:100%;\"></div>            <script type=\"text/javascript\">                require([\"plotly\"], function(Plotly) {                    window.PLOTLYENV=window.PLOTLYENV || {};                                    if (document.getElementById(\"f1562119-6512-40e5-be96-1107164ee22c\")) {                    Plotly.newPlot(                        \"f1562119-6512-40e5-be96-1107164ee22c\",                        [{\"alignmentgroup\":\"True\",\"hovertemplate\":\"state=%{x}<br>score=%{y}<extra></extra>\",\"legendgroup\":\"\",\"marker\":{\"color\":\"#636efa\"},\"name\":\"\",\"notched\":false,\"offsetgroup\":\"\",\"orientation\":\"v\",\"showlegend\":false,\"x\":[\"AL\",\"AL\",\"AL\",\"AL\",\"AL\",\"AL\",\"AL\",\"AL\",\"AL\",\"AL\",\"AL\",\"AL\",\"AK\",\"AK\",\"AK\",\"AK\",\"AK\",\"AK\",\"AK\",\"AK\",\"AK\",\"AK\",\"AK\",\"AK\",\"AZ\",\"AZ\",\"AZ\",\"AZ\",\"AZ\",\"AZ\",\"AZ\",\"AZ\",\"AZ\",\"AZ\",\"AZ\",\"AR\",\"AR\",\"AR\",\"AR\",\"AR\",\"AR\",\"AR\",\"AR\",\"AR\",\"AR\",\"AR\",\"CA\",\"CA\",\"CA\",\"CA\",\"CA\",\"CA\",\"CA\",\"CA\",\"CA\",\"CA\",\"CA\",\"CA\",\"CO\",\"CO\",\"CO\",\"CO\",\"CO\",\"CO\",\"CO\",\"CO\",\"CO\",\"CO\",\"CO\",\"CT\",\"CT\",\"CT\",\"CT\",\"CT\",\"CT\",\"CT\",\"CT\",\"CT\",\"CT\",\"DE\",\"DE\",\"DE\",\"DE\",\"DE\",\"DE\",\"DE\",\"DE\",\"DE\",\"DE\",\"DC\",\"DC\",\"DC\",\"DC\",\"DC\",\"DC\",\"DC\",\"DC\",\"DC\",\"FL\",\"FL\",\"FL\",\"FL\",\"FL\",\"FL\",\"FL\",\"FL\",\"FL\",\"FL\",\"FL\",\"FL\",\"GA\",\"GA\",\"GA\",\"GA\",\"GA\",\"GA\",\"GA\",\"GA\",\"GA\",\"GA\",\"GA\",\"HI\",\"HI\",\"HI\",\"HI\",\"HI\",\"HI\",\"HI\",\"HI\",\"HI\",\"HI\",\"HI\",\"ID\",\"ID\",\"ID\",\"ID\",\"ID\",\"ID\",\"ID\",\"ID\",\"ID\",\"ID\",\"IL\",\"IL\",\"IL\",\"IL\",\"IL\",\"IL\",\"IL\",\"IL\",\"IL\",\"IL\",\"IL\",\"IN\",\"IN\",\"IN\",\"IN\",\"IN\",\"IN\",\"IN\",\"IN\",\"IN\",\"IN\",\"IN\",\"IA\",\"IA\",\"IA\",\"IA\",\"IA\",\"IA\",\"IA\",\"IA\",\"IA\",\"IA\",\"KS\",\"KS\",\"KS\",\"KS\",\"KS\",\"KS\",\"KS\",\"KS\",\"KS\",\"KS\",\"KS\",\"KY\",\"KY\",\"KY\",\"KY\",\"KY\",\"KY\",\"KY\",\"KY\",\"KY\",\"KY\",\"KY\",\"LA\",\"LA\",\"LA\",\"LA\",\"LA\",\"LA\",\"LA\",\"LA\",\"LA\",\"LA\",\"LA\",\"LA\",\"ME\",\"ME\",\"ME\",\"ME\",\"ME\",\"ME\",\"ME\",\"ME\",\"ME\",\"ME\",\"ME\",\"MD\",\"MD\",\"MD\",\"MD\",\"MD\",\"MD\",\"MD\",\"MD\",\"MD\",\"MD\",\"MD\",\"MD\",\"MA\",\"MA\",\"MA\",\"MA\",\"MA\",\"MA\",\"MA\",\"MA\",\"MA\",\"MA\",\"MA\",\"MI\",\"MI\",\"MI\",\"MI\",\"MI\",\"MI\",\"MI\",\"MI\",\"MI\",\"MI\",\"MI\",\"MI\",\"MN\",\"MN\",\"MN\",\"MN\",\"MN\",\"MN\",\"MN\",\"MN\",\"MN\",\"MN\",\"MN\",\"MS\",\"MS\",\"MS\",\"MS\",\"MS\",\"MS\",\"MS\",\"MS\",\"MS\",\"MS\",\"MS\",\"MO\",\"MO\",\"MO\",\"MO\",\"MO\",\"MO\",\"MO\",\"MO\",\"MO\",\"MO\",\"MO\",\"MT\",\"MT\",\"MT\",\"MT\",\"MT\",\"MT\",\"MT\",\"MT\",\"MT\",\"MT\",\"MT\",\"NE\",\"NE\",\"NE\",\"NE\",\"NE\",\"NE\",\"NE\",\"NE\",\"NE\",\"NE\",\"NE\",\"NV\",\"NV\",\"NV\",\"NV\",\"NV\",\"NV\",\"NV\",\"NV\",\"NV\",\"NV\",\"NV\",\"NH\",\"NH\",\"NH\",\"NH\",\"NH\",\"NH\",\"NH\",\"NH\",\"NH\",\"NH\",\"NJ\",\"NJ\",\"NJ\",\"NJ\",\"NJ\",\"NJ\",\"NJ\",\"NJ\",\"NJ\",\"NJ\",\"NM\",\"NM\",\"NM\",\"NM\",\"NM\",\"NM\",\"NM\",\"NM\",\"NM\",\"NM\",\"NM\",\"NY\",\"NY\",\"NY\",\"NY\",\"NY\",\"NY\",\"NY\",\"NY\",\"NY\",\"NY\",\"NY\",\"NY\",\"NC\",\"NC\",\"NC\",\"NC\",\"NC\",\"NC\",\"NC\",\"NC\",\"NC\",\"NC\",\"NC\",\"ND\",\"ND\",\"ND\",\"ND\",\"ND\",\"ND\",\"ND\",\"ND\",\"ND\",\"ND\",\"ND\",\"OH\",\"OH\",\"OH\",\"OH\",\"OH\",\"OH\",\"OH\",\"OH\",\"OH\",\"OH\",\"OH\",\"OH\",\"OK\",\"OK\",\"OK\",\"OK\",\"OK\",\"OK\",\"OK\",\"OK\",\"OK\",\"OK\",\"OK\",\"OR\",\"OR\",\"OR\",\"OR\",\"OR\",\"OR\",\"OR\",\"OR\",\"OR\",\"OR\",\"OR\",\"OR\",\"PA\",\"PA\",\"PA\",\"PA\",\"PA\",\"PA\",\"PA\",\"PA\",\"PA\",\"PA\",\"PA\",\"PA\",\"RI\",\"RI\",\"RI\",\"RI\",\"RI\",\"RI\",\"RI\",\"RI\",\"RI\",\"RI\",\"SC\",\"SC\",\"SC\",\"SC\",\"SC\",\"SC\",\"SC\",\"SC\",\"SC\",\"SC\",\"SC\",\"SD\",\"SD\",\"SD\",\"SD\",\"SD\",\"SD\",\"SD\",\"SD\",\"SD\",\"SD\",\"SD\",\"TN\",\"TN\",\"TN\",\"TN\",\"TN\",\"TN\",\"TN\",\"TN\",\"TN\",\"TN\",\"TN\",\"TX\",\"TX\",\"TX\",\"TX\",\"TX\",\"TX\",\"TX\",\"TX\",\"TX\",\"TX\",\"TX\",\"TX\",\"UT\",\"UT\",\"UT\",\"UT\",\"UT\",\"UT\",\"UT\",\"UT\",\"UT\",\"UT\",\"UT\",\"VT\",\"VT\",\"VT\",\"VT\",\"VT\",\"VT\",\"VT\",\"VT\",\"VT\",\"VT\",\"VA\",\"VA\",\"VA\",\"VA\",\"VA\",\"VA\",\"VA\",\"VA\",\"VA\",\"VA\",\"VA\",\"VA\",\"WA\",\"WA\",\"WA\",\"WA\",\"WA\",\"WA\",\"WA\",\"WA\",\"WA\",\"WA\",\"WA\",\"WA\",\"WV\",\"WV\",\"WV\",\"WV\",\"WV\",\"WV\",\"WV\",\"WV\",\"WV\",\"WV\",\"WV\",\"WI\",\"WI\",\"WI\",\"WI\",\"WI\",\"WI\",\"WI\",\"WI\",\"WI\",\"WI\",\"WI\",\"WY\",\"WY\",\"WY\",\"WY\",\"WY\",\"WY\",\"WY\",\"WY\",\"WY\",\"WY\",\"WY\"],\"x0\":\" \",\"xaxis\":\"x\",\"y\":[0.6052551282051282,0.7136611607142856,0.5599908333333334,0.5928818181818182,0.469340909090909,0.6274235294117645,0.46721499999999994,0.5287064102564101,0.2724914285714286,0.5706385714285716,0.8131409090909091,0.7830179487179486,0.7385388392857142,0.040146666666666664,0.5789303418803418,0.5525291666666666,0.6374700854700854,0.6342885964912282,0.7235004273504273,0.4753183333333332,0.811880357142857,0.5057239316239316,0.6363675,0.5116916666666667,0.47285085470085464,0.76438,0.7337495833333333,0.7592410256410256,0.32835000000000014,0.4565255208333333,0.5689099999999999,0.86295,0.5763307692307691,0.711161607142857,0.3359614285714285,0.6693045454545454,0.45339401709401705,0.6278490476190476,0.7617559829059829,0.71224,0.4909199999999999,0.43030803571428566,0.590642857142857,0.4353808035714285,0.45600416666666643,0.18858794642857113,0.5116141025641023,0.5473552380952382,0.7557901785714286,0.6454136363636364,0.6342782051282051,0.6194687499999998,0.8123728070175438,0.510892857142857,0.5597696581196581,0.7664239316239315,0.4862435897435897,0.4934254464285712,0.5106227272727271,0.6004295833333333,0.6885727272727273,0.7533045454545455,0.6583181818181818,0.49915705882352956,0.5576330357142857,0.7020045454545454,0.5106237499999999,0.5209876068376067,0.32644411764705883,0.4899772727272729,0.6379762499999999,0.48134476190476183,0.6367884615384614,0.6395142857142857,0.4273230769230767,0.6705118055555555,0.584118181818182,0.449539316239316,0.5407641025641026,0.5369641666666666,0.4434412499999999,0.5965848214285714,0.6124499999999999,0.6979976190476191,0.767075,0.7418928571428571,0.5066133333333332,0.68816375,0.5963045833333334,0.7788770833333333,0.6915916666666666,0.5688962499999999,0.40465000000000007,0.7769021367521367,0.5652570833333332,0.57062875,0.48762564102564077,0.7231055555555554,0.631452857142857,0.40850446428571396,0.5549700854700854,0.5811383333333333,0.60456375,0.7832724999999999,0.516048245614035,0.38483636363636353,0.4547574999999998,0.6729241666666667,0.7237119658119657,0.7004929166666667,0.6858124999999999,0.7678207692307693,0.7998772727272727,0.7611808333333333,0.7260404166666665,0.48835486111111104,0.678278205128205,0.8239358333333333,0.5749205128205126,0.6076483333333332,0.5035654166666665,0.7682529166666666,0.5272421875000002,0.47561919642857153,0.6025562499999999,0.733505357142857,0.7210136752136751,0.6317841666666666,0.8473520833333332,0.7264901709401708,0.8266468750000001,0.6873735294117647,0.6766000000000001,0.5116183333333333,0.8086282051282051,0.50930375,0.5711045454545456,0.6426522321428572,0.3678181818181818,0.5850845833333331,0.6012133333333334,0.6491687499999999,0.1964136363636363,0.704890909090909,0.597675,0.6542272727272727,0.6183320833333331,0.6197149572649572,0.7848223214285714,0.6164681818181819,0.6703254166666666,0.7799482905982905,0.75795875,0.5901590909090908,0.650578125,0.6449136363636363,0.647708547008547,0.5922142857142858,0.5532395833333331,0.6733883928571427,0.9150891666666666,0.5211756410256408,0.7306181818181818,0.5019961538461537,0.6644764957264957,0.44597136752136757,0.5632764957264956,0.6237803571428571,0.5990735042735043,0.6976031249999998,0.4585499999999999,0.5834478632478631,0.65752875,0.5845431623931623,0.42374102564102545,0.4547102564102562,0.8224809523809524,0.7067747863247862,0.8082883333333333,0.5927200892857143,0.8073119658119658,0.3416594017094017,0.34650454545454545,0.650486752136752,0.5837966666666665,0.7111308333333333,0.5279272727272728,0.7079041666666666,0.6261833333333333,0.5094517094017094,0.6424214285714287,0.6282,0.5838071428571427,0.39426666666666643,0.5537633928571428,0.685782380952381,0.7367239316239316,0.5812819444444443,0.5117915178571427,0.7325454545454546,0.5804004166666666,0.6400171428571427,0.5312395833333332,0.6850333333333332,0.6942412499999998,0.6574809523809524,0.6197431623931623,0.5056722222222221,0.6075848214285713,0.5332568376068374,0.5965016666666666,0.7127723214285713,0.7419959821428571,0.8209090909090909,0.5427609375,0.8158187499999999,0.679994017094017,0.42839487179487157,0.5309547619047619,0.6018636363636363,0.5577733333333332,0.6051834821428571,0.48294958333333315,0.5168179487179486,0.5485966666666666,0.7695041666666667,0.5718173611111109,0.78199375,0.6167272727272728,0.5148909090909092,0.5666392857142856,0.5885484374999999,0.6844497596153847,0.7893547008547008,0.5665950892857142,0.4565999999999999,0.5079975,0.49151517857142846,0.4538347222222221,0.556159090909091,0.5597772727272727,0.49197875,0.7726529166666666,0.70129,0.7469636363636363,0.7814290178571429,0.6991264957264955,0.7603818181818182,0.4658419642857141,0.7102966666666666,0.5721752136752135,0.6403091666666667,0.61548125,0.7743918803418803,0.8593054166666666,0.3057480952380952,0.6522363636363635,0.7894547619047619,0.5979820833333334,0.3319247058823531,0.5578329059829059,0.478920833333333,0.6914454545454545,0.5891090909090909,0.70455375,0.6614704166666666,0.4659303571428569,0.6237153846153844,0.7241820512820512,0.5940633333333332,0.7430888888888889,0.6850850427350426,0.22855133928571436,0.6308183760683759,0.6656779166666665,0.7584812499999999,0.6437551282051281,0.6618875,0.6986136363636364,0.6757545454545455,0.7484500000000001,0.6675433333333333,0.6288554166666667,0.7034,0.7410863247863247,0.46077727272727276,0.793867857142857,0.42400000000000015,0.6450830357142854,0.7937727272727273,0.6914688034188035,0.6763818181818182,0.7232411458333334,0.5151303418803417,0.8557683760683761,0.561292735042735,0.8411757142857142,0.828529411764706,0.61995,0.5814636363636363,0.5667237499999999,0.7647970833333333,0.5901026785714285,0.6412258333333334,0.46089658119658117,0.68665,0.4386542857142859,0.5146888392857142,0.7282952991452991,0.526065,0.6898,0.706619658119658,0.5106420833333334,0.4722062499999997,0.4212552631578944,0.6662829166666666,0.6479454545454545,0.7664635294117648,0.8324542857142857,0.5049465277777778,0.55965,0.4871409090909089,0.7290857142857142,0.4999861607142856,0.7838912499999999,0.7161811965811965,0.711586111111111,0.7203295833333332,0.6665533333333333,0.7794080952380953,0.6121181818181818,0.6306658333333333,0.5802727272727273,0.7429987499999999,0.5604852941176471,0.6088223214285713,0.8191285714285713,0.5193785714285716,0.4360208333333334,0.6805089285714283,0.7228870833333333,0.5104954166666666,0.6769025,0.4174675,0.6936058035714285,0.5508161458333334,0.45789708333333334,0.5087491666666666,0.3324454545454544,0.6074879166666666,0.6475017647058825,0.5196265625,0.6773897435897436,0.5002727272727272,0.3761260683760681,0.576039316239316,0.7527681818181817,0.8062456140350878,0.7099055555555556,0.685757264957265,0.4818724999999998,0.65277125,0.5828014285714285,0.32704545454545453,0.7414143382352942,0.4934735042735041,0.44964642857142845,0.5662516666666664,0.7597947368421052,0.5233120535714286,0.5604033333333331,0.7526361904761905,0.7482316239316239,0.7428590909090909,0.6669700892857142,0.623305,0.5346129166666667,0.4671678571428569,0.7970604761904762,0.4997566666666664,0.5973312500000001,0.8065272727272728,0.589690909090909,0.8313379166666667,0.7064756944444444,0.47427791666666663,0.34886666666666677,0.5703537500000001,0.6566379464285714,0.5279354700854699,0.5865204761904762,0.6247181818181818,0.6031749999999999,0.6532181818181817,0.51972625,0.6118954545454546,0.49812499999999993,0.42111324786324766,0.862791452991453,0.6154223214285715,0.7560227272727273,0.7791455357142858,0.550682905982906,0.7799623931623931,0.7087776190476189,0.5515572649572649,0.5743470085470085,0.7418713675213674,0.8216119658119657,0.8072929411764705,0.5948333333333332,0.6015696581196581,0.45260333333333314,0.7660948717948717,0.49048916666666653,0.6403987179487178,0.7613136363636362,0.40181083333333334,0.611986752136752,0.728575,0.5295337606837607,0.604542361111111,0.7136004273504273,0.7862562499999999,0.7418116666666665,0.71987125,0.5225247863247863,0.6072679166666666,0.6953318181818182,0.5728333333333333,0.39578080357142853,0.7316564102564103,0.5893195833333333,0.6247730769230768,0.7063045833333332,0.6393879166666666,0.6431909090909089,0.4653037499999999,0.7228534722222222,0.8278224999999999,0.6187888888888888,0.6101138392857142,0.5969442857142857,0.8550726495726495,0.26425042735042725,0.5403128205128205,0.6498545454545455,0.4992994791666667,0.664824107142857,0.8305200854700855,0.47149230769230754,0.5532821428571428,0.6189989583333333,0.7484195238095238,0.6994754166666666,0.6747727272727273,0.7003722222222222,0.6539700854700854,0.576671875,0.5863214285714284,0.6070636363636364,0.7965641666666666,0.49951473214285713,0.6423166666666666,0.6141585470085468,0.5754687499999999,0.6405252380952381,0.5821374999999999,0.5962633333333333,0.7027204166666666,0.755883482142857,0.5260623809523809,0.6111547008547008,0.6901055555555555,0.7242614285714286,0.7134954545454546,0.6170232142857142,0.6853541666666667,0.5321379166666665,0.572840909090909,0.6476104166666667,0.6468885416666666,0.7113233333333333,0.8204994791666668,0.5796690476190476,0.7001400000000001,0.6683170940170939,0.5686232142857144,0.3428508333333332,0.7002866666666667,0.6661041666666666,0.5188652380952381,0.7229571428571429,0.5999941666666666,0.6739181818181819,0.6489965811965812,0.6679374999999999,0.685159375,0.5023017094017093,0.4457787499999999,0.5907165178571427,0.5870957264957264,0.7696462500000001,0.4253299145299143,0.6472437500000002,0.53107094017094,0.5911895833333332,0.5121499999999999,0.22077047619047607,0.6576994791666668,0.5519791666666667,0.6565983333333332,0.6748033333333332,0.5711361904761904,0.5097590277777777,0.6951585714285713,0.7050441666666667,0.4770599999999997,0.5283429166666667,0.6291258333333332,0.7293607142857143,0.41351093750000023,0.7040200854700854,0.6889749999999999,0.6103158333333332,0.50706,0.6491942857142856,0.7515558333333332,0.8260964705882352,0.6694454545454546,0.4925145299145297,0.501425,0.46637777777777756,0.5648033333333333,0.6312555555555555,0.4853420833333333,0.5218102564102562,0.543659829059829,0.5893897435897435,0.3620711764705884,0.7258790178571428,0.6412272727272728,0.5284977678571425,0.36112,0.8828499999999999,0.6370545454545453,0.5904516666666666,0.6318208333333333,0.6565765625000001,0.6123863636363638,0.6084047008547007,0.6353590909090909,0.6424947619047618,0.6540270833333331,0.5442022321428571,0.6313871794871795,0.6896909090909091,0.6104213675213674,0.6594465811965811,0.6931589285714286,0.6634916666666666,0.7092521367521367,0.6544307692307691,0.5098841880341878,0.7552238095238096],\"y0\":\" \",\"yaxis\":\"y\",\"type\":\"box\"}],                        {\"template\":{\"data\":{\"bar\":[{\"error_x\":{\"color\":\"#2a3f5f\"},\"error_y\":{\"color\":\"#2a3f5f\"},\"marker\":{\"line\":{\"color\":\"#E5ECF6\",\"width\":0.5},\"pattern\":{\"fillmode\":\"overlay\",\"size\":10,\"solidity\":0.2}},\"type\":\"bar\"}],\"barpolar\":[{\"marker\":{\"line\":{\"color\":\"#E5ECF6\",\"width\":0.5},\"pattern\":{\"fillmode\":\"overlay\",\"size\":10,\"solidity\":0.2}},\"type\":\"barpolar\"}],\"carpet\":[{\"aaxis\":{\"endlinecolor\":\"#2a3f5f\",\"gridcolor\":\"white\",\"linecolor\":\"white\",\"minorgridcolor\":\"white\",\"startlinecolor\":\"#2a3f5f\"},\"baxis\":{\"endlinecolor\":\"#2a3f5f\",\"gridcolor\":\"white\",\"linecolor\":\"white\",\"minorgridcolor\":\"white\",\"startlinecolor\":\"#2a3f5f\"},\"type\":\"carpet\"}],\"choropleth\":[{\"colorbar\":{\"outlinewidth\":0,\"ticks\":\"\"},\"type\":\"choropleth\"}],\"contour\":[{\"colorbar\":{\"outlinewidth\":0,\"ticks\":\"\"},\"colorscale\":[[0.0,\"#0d0887\"],[0.1111111111111111,\"#46039f\"],[0.2222222222222222,\"#7201a8\"],[0.3333333333333333,\"#9c179e\"],[0.4444444444444444,\"#bd3786\"],[0.5555555555555556,\"#d8576b\"],[0.6666666666666666,\"#ed7953\"],[0.7777777777777778,\"#fb9f3a\"],[0.8888888888888888,\"#fdca26\"],[1.0,\"#f0f921\"]],\"type\":\"contour\"}],\"contourcarpet\":[{\"colorbar\":{\"outlinewidth\":0,\"ticks\":\"\"},\"type\":\"contourcarpet\"}],\"heatmap\":[{\"colorbar\":{\"outlinewidth\":0,\"ticks\":\"\"},\"colorscale\":[[0.0,\"#0d0887\"],[0.1111111111111111,\"#46039f\"],[0.2222222222222222,\"#7201a8\"],[0.3333333333333333,\"#9c179e\"],[0.4444444444444444,\"#bd3786\"],[0.5555555555555556,\"#d8576b\"],[0.6666666666666666,\"#ed7953\"],[0.7777777777777778,\"#fb9f3a\"],[0.8888888888888888,\"#fdca26\"],[1.0,\"#f0f921\"]],\"type\":\"heatmap\"}],\"heatmapgl\":[{\"colorbar\":{\"outlinewidth\":0,\"ticks\":\"\"},\"colorscale\":[[0.0,\"#0d0887\"],[0.1111111111111111,\"#46039f\"],[0.2222222222222222,\"#7201a8\"],[0.3333333333333333,\"#9c179e\"],[0.4444444444444444,\"#bd3786\"],[0.5555555555555556,\"#d8576b\"],[0.6666666666666666,\"#ed7953\"],[0.7777777777777778,\"#fb9f3a\"],[0.8888888888888888,\"#fdca26\"],[1.0,\"#f0f921\"]],\"type\":\"heatmapgl\"}],\"histogram\":[{\"marker\":{\"pattern\":{\"fillmode\":\"overlay\",\"size\":10,\"solidity\":0.2}},\"type\":\"histogram\"}],\"histogram2d\":[{\"colorbar\":{\"outlinewidth\":0,\"ticks\":\"\"},\"colorscale\":[[0.0,\"#0d0887\"],[0.1111111111111111,\"#46039f\"],[0.2222222222222222,\"#7201a8\"],[0.3333333333333333,\"#9c179e\"],[0.4444444444444444,\"#bd3786\"],[0.5555555555555556,\"#d8576b\"],[0.6666666666666666,\"#ed7953\"],[0.7777777777777778,\"#fb9f3a\"],[0.8888888888888888,\"#fdca26\"],[1.0,\"#f0f921\"]],\"type\":\"histogram2d\"}],\"histogram2dcontour\":[{\"colorbar\":{\"outlinewidth\":0,\"ticks\":\"\"},\"colorscale\":[[0.0,\"#0d0887\"],[0.1111111111111111,\"#46039f\"],[0.2222222222222222,\"#7201a8\"],[0.3333333333333333,\"#9c179e\"],[0.4444444444444444,\"#bd3786\"],[0.5555555555555556,\"#d8576b\"],[0.6666666666666666,\"#ed7953\"],[0.7777777777777778,\"#fb9f3a\"],[0.8888888888888888,\"#fdca26\"],[1.0,\"#f0f921\"]],\"type\":\"histogram2dcontour\"}],\"mesh3d\":[{\"colorbar\":{\"outlinewidth\":0,\"ticks\":\"\"},\"type\":\"mesh3d\"}],\"parcoords\":[{\"line\":{\"colorbar\":{\"outlinewidth\":0,\"ticks\":\"\"}},\"type\":\"parcoords\"}],\"pie\":[{\"automargin\":true,\"type\":\"pie\"}],\"scatter\":[{\"marker\":{\"colorbar\":{\"outlinewidth\":0,\"ticks\":\"\"}},\"type\":\"scatter\"}],\"scatter3d\":[{\"line\":{\"colorbar\":{\"outlinewidth\":0,\"ticks\":\"\"}},\"marker\":{\"colorbar\":{\"outlinewidth\":0,\"ticks\":\"\"}},\"type\":\"scatter3d\"}],\"scattercarpet\":[{\"marker\":{\"colorbar\":{\"outlinewidth\":0,\"ticks\":\"\"}},\"type\":\"scattercarpet\"}],\"scattergeo\":[{\"marker\":{\"colorbar\":{\"outlinewidth\":0,\"ticks\":\"\"}},\"type\":\"scattergeo\"}],\"scattergl\":[{\"marker\":{\"colorbar\":{\"outlinewidth\":0,\"ticks\":\"\"}},\"type\":\"scattergl\"}],\"scattermapbox\":[{\"marker\":{\"colorbar\":{\"outlinewidth\":0,\"ticks\":\"\"}},\"type\":\"scattermapbox\"}],\"scatterpolar\":[{\"marker\":{\"colorbar\":{\"outlinewidth\":0,\"ticks\":\"\"}},\"type\":\"scatterpolar\"}],\"scatterpolargl\":[{\"marker\":{\"colorbar\":{\"outlinewidth\":0,\"ticks\":\"\"}},\"type\":\"scatterpolargl\"}],\"scatterternary\":[{\"marker\":{\"colorbar\":{\"outlinewidth\":0,\"ticks\":\"\"}},\"type\":\"scatterternary\"}],\"surface\":[{\"colorbar\":{\"outlinewidth\":0,\"ticks\":\"\"},\"colorscale\":[[0.0,\"#0d0887\"],[0.1111111111111111,\"#46039f\"],[0.2222222222222222,\"#7201a8\"],[0.3333333333333333,\"#9c179e\"],[0.4444444444444444,\"#bd3786\"],[0.5555555555555556,\"#d8576b\"],[0.6666666666666666,\"#ed7953\"],[0.7777777777777778,\"#fb9f3a\"],[0.8888888888888888,\"#fdca26\"],[1.0,\"#f0f921\"]],\"type\":\"surface\"}],\"table\":[{\"cells\":{\"fill\":{\"color\":\"#EBF0F8\"},\"line\":{\"color\":\"white\"}},\"header\":{\"fill\":{\"color\":\"#C8D4E3\"},\"line\":{\"color\":\"white\"}},\"type\":\"table\"}]},\"layout\":{\"annotationdefaults\":{\"arrowcolor\":\"#2a3f5f\",\"arrowhead\":0,\"arrowwidth\":1},\"autotypenumbers\":\"strict\",\"coloraxis\":{\"colorbar\":{\"outlinewidth\":0,\"ticks\":\"\"}},\"colorscale\":{\"diverging\":[[0,\"#8e0152\"],[0.1,\"#c51b7d\"],[0.2,\"#de77ae\"],[0.3,\"#f1b6da\"],[0.4,\"#fde0ef\"],[0.5,\"#f7f7f7\"],[0.6,\"#e6f5d0\"],[0.7,\"#b8e186\"],[0.8,\"#7fbc41\"],[0.9,\"#4d9221\"],[1,\"#276419\"]],\"sequential\":[[0.0,\"#0d0887\"],[0.1111111111111111,\"#46039f\"],[0.2222222222222222,\"#7201a8\"],[0.3333333333333333,\"#9c179e\"],[0.4444444444444444,\"#bd3786\"],[0.5555555555555556,\"#d8576b\"],[0.6666666666666666,\"#ed7953\"],[0.7777777777777778,\"#fb9f3a\"],[0.8888888888888888,\"#fdca26\"],[1.0,\"#f0f921\"]],\"sequentialminus\":[[0.0,\"#0d0887\"],[0.1111111111111111,\"#46039f\"],[0.2222222222222222,\"#7201a8\"],[0.3333333333333333,\"#9c179e\"],[0.4444444444444444,\"#bd3786\"],[0.5555555555555556,\"#d8576b\"],[0.6666666666666666,\"#ed7953\"],[0.7777777777777778,\"#fb9f3a\"],[0.8888888888888888,\"#fdca26\"],[1.0,\"#f0f921\"]]},\"colorway\":[\"#636efa\",\"#EF553B\",\"#00cc96\",\"#ab63fa\",\"#FFA15A\",\"#19d3f3\",\"#FF6692\",\"#B6E880\",\"#FF97FF\",\"#FECB52\"],\"font\":{\"color\":\"#2a3f5f\"},\"geo\":{\"bgcolor\":\"white\",\"lakecolor\":\"white\",\"landcolor\":\"#E5ECF6\",\"showlakes\":true,\"showland\":true,\"subunitcolor\":\"white\"},\"hoverlabel\":{\"align\":\"left\"},\"hovermode\":\"closest\",\"mapbox\":{\"style\":\"light\"},\"paper_bgcolor\":\"white\",\"plot_bgcolor\":\"#E5ECF6\",\"polar\":{\"angularaxis\":{\"gridcolor\":\"white\",\"linecolor\":\"white\",\"ticks\":\"\"},\"bgcolor\":\"#E5ECF6\",\"radialaxis\":{\"gridcolor\":\"white\",\"linecolor\":\"white\",\"ticks\":\"\"}},\"scene\":{\"xaxis\":{\"backgroundcolor\":\"#E5ECF6\",\"gridcolor\":\"white\",\"gridwidth\":2,\"linecolor\":\"white\",\"showbackground\":true,\"ticks\":\"\",\"zerolinecolor\":\"white\"},\"yaxis\":{\"backgroundcolor\":\"#E5ECF6\",\"gridcolor\":\"white\",\"gridwidth\":2,\"linecolor\":\"white\",\"showbackground\":true,\"ticks\":\"\",\"zerolinecolor\":\"white\"},\"zaxis\":{\"backgroundcolor\":\"#E5ECF6\",\"gridcolor\":\"white\",\"gridwidth\":2,\"linecolor\":\"white\",\"showbackground\":true,\"ticks\":\"\",\"zerolinecolor\":\"white\"}},\"shapedefaults\":{\"line\":{\"color\":\"#2a3f5f\"}},\"ternary\":{\"aaxis\":{\"gridcolor\":\"white\",\"linecolor\":\"white\",\"ticks\":\"\"},\"baxis\":{\"gridcolor\":\"white\",\"linecolor\":\"white\",\"ticks\":\"\"},\"bgcolor\":\"#E5ECF6\",\"caxis\":{\"gridcolor\":\"white\",\"linecolor\":\"white\",\"ticks\":\"\"}},\"title\":{\"x\":0.05},\"xaxis\":{\"automargin\":true,\"gridcolor\":\"white\",\"linecolor\":\"white\",\"ticks\":\"\",\"title\":{\"standoff\":15},\"zerolinecolor\":\"white\",\"zerolinewidth\":2},\"yaxis\":{\"automargin\":true,\"gridcolor\":\"white\",\"linecolor\":\"white\",\"ticks\":\"\",\"title\":{\"standoff\":15},\"zerolinecolor\":\"white\",\"zerolinewidth\":2}}},\"xaxis\":{\"anchor\":\"y\",\"domain\":[0.0,1.0],\"title\":{\"text\":\"state\"}},\"yaxis\":{\"anchor\":\"x\",\"domain\":[0.0,1.0],\"title\":{\"text\":\"score\"}},\"legend\":{\"tracegroupgap\":0},\"margin\":{\"t\":60},\"boxmode\":\"group\"},                        {\"responsive\": true}                    ).then(function(){\n",
       "                            \n",
       "var gd = document.getElementById('f1562119-6512-40e5-be96-1107164ee22c');\n",
       "var x = new MutationObserver(function (mutations, observer) {{\n",
       "        var display = window.getComputedStyle(gd).display;\n",
       "        if (!display || display === 'none') {{\n",
       "            console.log([gd, 'removed!']);\n",
       "            Plotly.purge(gd);\n",
       "            observer.disconnect();\n",
       "        }}\n",
       "}});\n",
       "\n",
       "// Listen for the removal of the full notebook cells\n",
       "var notebookContainer = gd.closest('#notebook-container');\n",
       "if (notebookContainer) {{\n",
       "    x.observe(notebookContainer, {childList: true});\n",
       "}}\n",
       "\n",
       "// Listen for the clearing of the current output cell\n",
       "var outputEl = gd.closest('.output');\n",
       "if (outputEl) {{\n",
       "    x.observe(outputEl, {childList: true});\n",
       "}}\n",
       "\n",
       "                        })                };                });            </script>        </div>"
      ]
     },
     "metadata": {},
     "output_type": "display_data"
    }
   ],
   "source": [
    "# Box Plot of scores by state\n",
    "fig = px.box(score_df, y=\"score\", x=\"state\")\n",
    "fig.show()"
   ]
  },
  {
   "cell_type": "code",
   "execution_count": 56,
   "id": "cf81e5bc",
   "metadata": {},
   "outputs": [
    {
     "data": {
      "text/plain": [
       "0.9150891666666666"
      ]
     },
     "execution_count": 56,
     "metadata": {},
     "output_type": "execute_result"
    }
   ],
   "source": [
    "score_df['score'].max()"
   ]
  },
  {
   "cell_type": "code",
   "execution_count": 57,
   "id": "0e9dc37b",
   "metadata": {},
   "outputs": [
    {
     "data": {
      "text/plain": [
       "0.040146666666666664"
      ]
     },
     "execution_count": 57,
     "metadata": {},
     "output_type": "execute_result"
    }
   ],
   "source": [
    "score_df['score'].min()"
   ]
  },
  {
   "cell_type": "code",
   "execution_count": null,
   "id": "da35fed7",
   "metadata": {},
   "outputs": [],
   "source": []
  }
 ],
 "metadata": {
  "kernelspec": {
   "display_name": "mlenv",
   "language": "python",
   "name": "mlenv"
  },
  "language_info": {
   "codemirror_mode": {
    "name": "ipython",
    "version": 3
   },
   "file_extension": ".py",
   "mimetype": "text/x-python",
   "name": "python",
   "nbconvert_exporter": "python",
   "pygments_lexer": "ipython3",
   "version": "3.7.13"
  }
 },
 "nbformat": 4,
 "nbformat_minor": 5
}
